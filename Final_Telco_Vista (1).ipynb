{
 "cells": [
  {
   "cell_type": "markdown",
   "id": "explicit-intersection",
   "metadata": {},
   "source": [
    "# Relatório Telco_Vista V.01\n",
    "\n",
    "\n",
    "\n",
    "\n"
   ]
  },
  {
   "cell_type": "code",
   "execution_count": 1,
   "id": "eastern-concert",
   "metadata": {},
   "outputs": [],
   "source": [
    "# import numpy as np \n",
    "import matplotlib.pyplot as plt\n",
    "from Arrays.arrays import Arrays\n",
    "import pandas as pd \n",
    "import seaborn as sns\n",
    "from pylab import rcParams\n",
    "import numpy as np\n",
    "from numpy import array\n",
    "from sklearn.preprocessing import LabelEncoder\n",
    "from sklearn.preprocessing import MinMaxScaler\n",
    "from sklearn.preprocessing import OneHotEncoder\n",
    "import plotly.offline as po\n",
    "import plotly.graph_objs as go\n",
    "%matplotlib inline\n",
    "rcParams['figure.figsize']=5,4\n",
    "from sklearn.pipeline import make_pipeline\n",
    "from sklearn.model_selection import train_test_split\n",
    "from sklearn.model_selection import cross_val_score\n",
    "from sklearn.model_selection import StratifiedKFold\n",
    "from sklearn.model_selection import GridSearchCV\n",
    "from imblearn.under_sampling import RandomUnderSampler\n",
    "from sklearn.metrics import roc_auc_score, accuracy_score, f1_score, confusion_matrix, classification_report\n",
    "from scikitplot.metrics import plot_confusion_matrix, plot_roc\n",
    "from sklearn.preprocessing import StandardScaler, LabelEncoder\n",
    "from sklearn.svm import SVC\n",
    "from lightgbm import LGBMClassifier\n",
    "from sklearn.linear_model import SGDClassifier\n",
    "from sklearn.tree import DecisionTreeClassifier\n",
    "from sklearn.linear_model import LogisticRegression\n",
    "from xgboost import XGBClassifier\n",
    "from sklearn.ensemble import RandomForestClassifier\n",
    "from sklearn import metrics\n",
    "from sklearn.neighbors import KNeighborsClassifier\n",
    "\n"
   ]
  },
  {
   "cell_type": "code",
   "execution_count": 3,
   "id": "auburn-exercise",
   "metadata": {},
   "outputs": [
    {
     "data": {
      "text/html": [
       "<div>\n",
       "<style scoped>\n",
       "    .dataframe tbody tr th:only-of-type {\n",
       "        vertical-align: middle;\n",
       "    }\n",
       "\n",
       "    .dataframe tbody tr th {\n",
       "        vertical-align: top;\n",
       "    }\n",
       "\n",
       "    .dataframe thead th {\n",
       "        text-align: right;\n",
       "    }\n",
       "</style>\n",
       "<table border=\"1\" class=\"dataframe\">\n",
       "  <thead>\n",
       "    <tr style=\"text-align: right;\">\n",
       "      <th></th>\n",
       "      <th>customerID</th>\n",
       "      <th>gender</th>\n",
       "      <th>SeniorCitizen</th>\n",
       "      <th>Partner</th>\n",
       "      <th>Dependents</th>\n",
       "      <th>tenure</th>\n",
       "      <th>PhoneService</th>\n",
       "      <th>MultipleLines</th>\n",
       "      <th>InternetService</th>\n",
       "      <th>OnlineSecurity</th>\n",
       "      <th>...</th>\n",
       "      <th>DeviceProtection</th>\n",
       "      <th>TechSupport</th>\n",
       "      <th>StreamingTV</th>\n",
       "      <th>StreamingMovies</th>\n",
       "      <th>Contract</th>\n",
       "      <th>PaperlessBilling</th>\n",
       "      <th>PaymentMethod</th>\n",
       "      <th>MonthlyCharges</th>\n",
       "      <th>TotalCharges</th>\n",
       "      <th>Churn</th>\n",
       "    </tr>\n",
       "  </thead>\n",
       "  <tbody>\n",
       "    <tr>\n",
       "      <th>0</th>\n",
       "      <td>7590-VHVEG</td>\n",
       "      <td>Female</td>\n",
       "      <td>0</td>\n",
       "      <td>Yes</td>\n",
       "      <td>No</td>\n",
       "      <td>1</td>\n",
       "      <td>No</td>\n",
       "      <td>No phone service</td>\n",
       "      <td>DSL</td>\n",
       "      <td>No</td>\n",
       "      <td>...</td>\n",
       "      <td>No</td>\n",
       "      <td>No</td>\n",
       "      <td>No</td>\n",
       "      <td>No</td>\n",
       "      <td>Month-to-month</td>\n",
       "      <td>Yes</td>\n",
       "      <td>Electronic check</td>\n",
       "      <td>29.85</td>\n",
       "      <td>29.85</td>\n",
       "      <td>No</td>\n",
       "    </tr>\n",
       "    <tr>\n",
       "      <th>1</th>\n",
       "      <td>5575-GNVDE</td>\n",
       "      <td>Male</td>\n",
       "      <td>0</td>\n",
       "      <td>No</td>\n",
       "      <td>No</td>\n",
       "      <td>34</td>\n",
       "      <td>Yes</td>\n",
       "      <td>No</td>\n",
       "      <td>DSL</td>\n",
       "      <td>Yes</td>\n",
       "      <td>...</td>\n",
       "      <td>Yes</td>\n",
       "      <td>No</td>\n",
       "      <td>No</td>\n",
       "      <td>No</td>\n",
       "      <td>One year</td>\n",
       "      <td>No</td>\n",
       "      <td>Mailed check</td>\n",
       "      <td>56.95</td>\n",
       "      <td>1889.5</td>\n",
       "      <td>No</td>\n",
       "    </tr>\n",
       "    <tr>\n",
       "      <th>2</th>\n",
       "      <td>3668-QPYBK</td>\n",
       "      <td>Male</td>\n",
       "      <td>0</td>\n",
       "      <td>No</td>\n",
       "      <td>No</td>\n",
       "      <td>2</td>\n",
       "      <td>Yes</td>\n",
       "      <td>No</td>\n",
       "      <td>DSL</td>\n",
       "      <td>Yes</td>\n",
       "      <td>...</td>\n",
       "      <td>No</td>\n",
       "      <td>No</td>\n",
       "      <td>No</td>\n",
       "      <td>No</td>\n",
       "      <td>Month-to-month</td>\n",
       "      <td>Yes</td>\n",
       "      <td>Mailed check</td>\n",
       "      <td>53.85</td>\n",
       "      <td>108.15</td>\n",
       "      <td>Yes</td>\n",
       "    </tr>\n",
       "    <tr>\n",
       "      <th>3</th>\n",
       "      <td>7795-CFOCW</td>\n",
       "      <td>Male</td>\n",
       "      <td>0</td>\n",
       "      <td>No</td>\n",
       "      <td>No</td>\n",
       "      <td>45</td>\n",
       "      <td>No</td>\n",
       "      <td>No phone service</td>\n",
       "      <td>DSL</td>\n",
       "      <td>Yes</td>\n",
       "      <td>...</td>\n",
       "      <td>Yes</td>\n",
       "      <td>Yes</td>\n",
       "      <td>No</td>\n",
       "      <td>No</td>\n",
       "      <td>One year</td>\n",
       "      <td>No</td>\n",
       "      <td>Bank transfer (automatic)</td>\n",
       "      <td>42.30</td>\n",
       "      <td>1840.75</td>\n",
       "      <td>No</td>\n",
       "    </tr>\n",
       "    <tr>\n",
       "      <th>4</th>\n",
       "      <td>9237-HQITU</td>\n",
       "      <td>Female</td>\n",
       "      <td>0</td>\n",
       "      <td>No</td>\n",
       "      <td>No</td>\n",
       "      <td>2</td>\n",
       "      <td>Yes</td>\n",
       "      <td>No</td>\n",
       "      <td>Fiber optic</td>\n",
       "      <td>No</td>\n",
       "      <td>...</td>\n",
       "      <td>No</td>\n",
       "      <td>No</td>\n",
       "      <td>No</td>\n",
       "      <td>No</td>\n",
       "      <td>Month-to-month</td>\n",
       "      <td>Yes</td>\n",
       "      <td>Electronic check</td>\n",
       "      <td>70.70</td>\n",
       "      <td>151.65</td>\n",
       "      <td>Yes</td>\n",
       "    </tr>\n",
       "  </tbody>\n",
       "</table>\n",
       "<p>5 rows × 21 columns</p>\n",
       "</div>"
      ],
      "text/plain": [
       "   customerID  gender  SeniorCitizen Partner Dependents  tenure PhoneService  \\\n",
       "0  7590-VHVEG  Female              0     Yes         No       1           No   \n",
       "1  5575-GNVDE    Male              0      No         No      34          Yes   \n",
       "2  3668-QPYBK    Male              0      No         No       2          Yes   \n",
       "3  7795-CFOCW    Male              0      No         No      45           No   \n",
       "4  9237-HQITU  Female              0      No         No       2          Yes   \n",
       "\n",
       "      MultipleLines InternetService OnlineSecurity  ... DeviceProtection  \\\n",
       "0  No phone service             DSL             No  ...               No   \n",
       "1                No             DSL            Yes  ...              Yes   \n",
       "2                No             DSL            Yes  ...               No   \n",
       "3  No phone service             DSL            Yes  ...              Yes   \n",
       "4                No     Fiber optic             No  ...               No   \n",
       "\n",
       "  TechSupport StreamingTV StreamingMovies        Contract PaperlessBilling  \\\n",
       "0          No          No              No  Month-to-month              Yes   \n",
       "1          No          No              No        One year               No   \n",
       "2          No          No              No  Month-to-month              Yes   \n",
       "3         Yes          No              No        One year               No   \n",
       "4          No          No              No  Month-to-month              Yes   \n",
       "\n",
       "               PaymentMethod MonthlyCharges  TotalCharges Churn  \n",
       "0           Electronic check          29.85         29.85    No  \n",
       "1               Mailed check          56.95        1889.5    No  \n",
       "2               Mailed check          53.85        108.15   Yes  \n",
       "3  Bank transfer (automatic)          42.30       1840.75    No  \n",
       "4           Electronic check          70.70        151.65   Yes  \n",
       "\n",
       "[5 rows x 21 columns]"
      ]
     },
     "execution_count": 3,
     "metadata": {},
     "output_type": "execute_result"
    }
   ],
   "source": [
    "#Entrada dos dados que estão disponibilizados em: https://www.kaggle.com/blastchar/telco-customer-churn/data\n",
    "\n",
    "dados=pd.read_csv(r\"C:\\Users\\ana.m.lima\\dados\\churn.csv\")\n",
    "dados.head()"
   ]
  },
  {
   "cell_type": "markdown",
   "id": "systematic-terrorism",
   "metadata": {},
   "source": [
    "# Introdução\n",
    "\n",
    "A regressão logística é um método de regressão bastante útil para resolver problemas de classificação binária. Regressão logística é um dos algoritmos de aprendizagem de máquina mais simples e comumente usados para classificação de duas classes. O objetivo é criar um modelo simples e eficaz. Modelos complexos não possuem resultados eficientes de acordo com o Ockham´s razor. Portanto, Quanto menos complexo é o modelo, mais provável é que um bom resultado empírico não se deva às peculiaridades da amostra. \n",
    "\n",
    "Antes de começar qualquer projeto de Machine Learning temos que levar em consideração fazer uma análise detalhada dos nossos dados pois isso é de extrema importância. Esse passo envolve processos, por exemplo: \n",
    "- 1- Verificar como os dados estão divididos e quais são as features que vamos utilizar na construção do modelo; \n",
    "- 2- Realizar a visualização dos dados usando histogramas ou gráficos de dispersão entre outras métricas de classificação; \n",
    "- 3- Incorporar nos dados One-hot-enconding; \n",
    "- 4- Tirar qualquer tipo de Outilier; \n",
    "- 5- Detectar valores omitidos, valores duplicados; \n",
    "- 6- Label incoerente; \n",
    "\n",
    "Este relatório foi produzido no âmbinto de investigação no projeto Telco-Vista e será uma combinação de programação, análise de dados e aprendizado de máquina.\n",
    "\n",
    "O objetivo deste respectivo modelo predition de Machine Learning é identificar qual a taxa de clientes que vão cometer churn rate que ocorre quando um cliente abandona a operadora. Como podemos observar temos um problema que envolve probabilidade, logo um valor entre 0 e 1.Em machine Learnig esse problema se dá o nome de Regressão Logística. \n",
    "\n",
    "O conjunto de dados que estou usando é referente a uma empresa de Telecomunicação. Nesses dados temos as seguintes informações: \n",
    "- Informações sobre os clientes, se tem dependentes ou parceiros; \n",
    "- Tipo de contrato \n",
    "- Se usa serviço de telefone \n",
    "- Valor que paga mensalmente \n",
    "\n",
    "Algumas features apresentam relação com o tempo de contratação do serviço, como tenure, TotalCharge e MonthlyCharges. Essas significam respectivamente, tempo, em meses, que o cliente possui o serviço pago. \n",
    "\n"
   ]
  },
  {
   "cell_type": "code",
   "execution_count": 4,
   "id": "respiratory-thanksgiving",
   "metadata": {},
   "outputs": [
    {
     "data": {
      "text/plain": [
       "customerID          7043\n",
       "gender                 2\n",
       "SeniorCitizen          2\n",
       "Partner                2\n",
       "Dependents             2\n",
       "tenure                73\n",
       "PhoneService           2\n",
       "MultipleLines          3\n",
       "InternetService        3\n",
       "OnlineSecurity         3\n",
       "OnlineBackup           3\n",
       "DeviceProtection       3\n",
       "TechSupport            3\n",
       "StreamingTV            3\n",
       "StreamingMovies        3\n",
       "Contract               3\n",
       "PaperlessBilling       2\n",
       "PaymentMethod          4\n",
       "MonthlyCharges      1585\n",
       "TotalCharges        6531\n",
       "Churn                  2\n",
       "dtype: int64"
      ]
     },
     "execution_count": 4,
     "metadata": {},
     "output_type": "execute_result"
    }
   ],
   "source": [
    "#obtendo valores diferentes\n",
    "dados.nunique()"
   ]
  },
  {
   "cell_type": "code",
   "execution_count": 5,
   "id": "through-percentage",
   "metadata": {},
   "outputs": [
    {
     "data": {
      "text/plain": [
       "(7043, 21)"
      ]
     },
     "execution_count": 5,
     "metadata": {},
     "output_type": "execute_result"
    }
   ],
   "source": [
    "dados.shape"
   ]
  },
  {
   "cell_type": "code",
   "execution_count": 6,
   "id": "conscious-times",
   "metadata": {
    "scrolled": false
   },
   "outputs": [
    {
     "data": {
      "text/plain": [
       "customerID           object\n",
       "gender               object\n",
       "SeniorCitizen         int64\n",
       "Partner              object\n",
       "Dependents           object\n",
       "tenure                int64\n",
       "PhoneService         object\n",
       "MultipleLines        object\n",
       "InternetService      object\n",
       "OnlineSecurity       object\n",
       "OnlineBackup         object\n",
       "DeviceProtection     object\n",
       "TechSupport          object\n",
       "StreamingTV          object\n",
       "StreamingMovies      object\n",
       "Contract             object\n",
       "PaperlessBilling     object\n",
       "PaymentMethod        object\n",
       "MonthlyCharges      float64\n",
       "TotalCharges         object\n",
       "Churn                object\n",
       "dtype: object"
      ]
     },
     "execution_count": 6,
     "metadata": {},
     "output_type": "execute_result"
    }
   ],
   "source": [
    "dados.dtypes"
   ]
  },
  {
   "cell_type": "markdown",
   "id": "difficult-pressing",
   "metadata": {},
   "source": [
    "Como foi possivel observar a tabela \"TotalCharges\"  está no formato \"object\", o ideal é transformar isso para o tipo de dado \"float\""
   ]
  },
  {
   "cell_type": "code",
   "execution_count": 2,
   "id": "common-inclusion",
   "metadata": {},
   "outputs": [
    {
     "ename": "NameError",
     "evalue": "name 'dados' is not defined",
     "output_type": "error",
     "traceback": [
      "\u001b[1;31m---------------------------------------------------------------------------\u001b[0m",
      "\u001b[1;31mNameError\u001b[0m                                 Traceback (most recent call last)",
      "\u001b[1;32m<ipython-input-2-c350fa3bc2de>\u001b[0m in \u001b[0;36m<module>\u001b[1;34m\u001b[0m\n\u001b[0;32m      5\u001b[0m                 'PaperlessBilling','PaymentMethod', 'tenure', 'TotalCharges', 'MonthlyCharges', 'Churn']\n\u001b[0;32m      6\u001b[0m \u001b[1;33m\u001b[0m\u001b[0m\n\u001b[1;32m----> 7\u001b[1;33m \u001b[0mdados\u001b[0m\u001b[1;33m=\u001b[0m\u001b[0mdados\u001b[0m\u001b[1;33m[\u001b[0m\u001b[0mcols_to_use\u001b[0m\u001b[1;33m]\u001b[0m\u001b[1;33m\u001b[0m\u001b[1;33m\u001b[0m\u001b[0m\n\u001b[0m\u001b[0;32m      8\u001b[0m \u001b[0mdados\u001b[0m\u001b[1;33m.\u001b[0m\u001b[0mhead\u001b[0m\u001b[1;33m(\u001b[0m\u001b[1;33m)\u001b[0m\u001b[1;33m\u001b[0m\u001b[1;33m\u001b[0m\u001b[0m\n",
      "\u001b[1;31mNameError\u001b[0m: name 'dados' is not defined"
     ]
    }
   ],
   "source": [
    "#Filtrando features\n",
    "\n",
    "cols_to_use= [ 'customerID', 'gender', 'Partner', 'PhoneService', 'MultipleLines', 'OnlineSecurity','InternetService',\n",
    "                'OnlineBackup','Contract', 'DeviceProtection', 'TechSupport', 'StreamingTV', 'StreamingMovies',\n",
    "                'PaperlessBilling','PaymentMethod', 'tenure', 'TotalCharges', 'MonthlyCharges', 'Churn']\n",
    "\n",
    "dados=dados[cols_to_use]\n",
    "dados.head()"
   ]
  },
  {
   "cell_type": "code",
   "execution_count": 8,
   "id": "binary-clarity",
   "metadata": {},
   "outputs": [],
   "source": [
    "dados['customerID'] = np.random.randint(0,7044, size=len(dados))"
   ]
  },
  {
   "cell_type": "code",
   "execution_count": 9,
   "id": "fancy-workstation",
   "metadata": {},
   "outputs": [
    {
     "data": {
      "text/html": [
       "<div>\n",
       "<style scoped>\n",
       "    .dataframe tbody tr th:only-of-type {\n",
       "        vertical-align: middle;\n",
       "    }\n",
       "\n",
       "    .dataframe tbody tr th {\n",
       "        vertical-align: top;\n",
       "    }\n",
       "\n",
       "    .dataframe thead th {\n",
       "        text-align: right;\n",
       "    }\n",
       "</style>\n",
       "<table border=\"1\" class=\"dataframe\">\n",
       "  <thead>\n",
       "    <tr style=\"text-align: right;\">\n",
       "      <th></th>\n",
       "      <th>customerID</th>\n",
       "      <th>gender</th>\n",
       "      <th>Partner</th>\n",
       "      <th>PhoneService</th>\n",
       "      <th>MultipleLines</th>\n",
       "      <th>OnlineSecurity</th>\n",
       "      <th>InternetService</th>\n",
       "      <th>OnlineBackup</th>\n",
       "      <th>Contract</th>\n",
       "      <th>DeviceProtection</th>\n",
       "      <th>TechSupport</th>\n",
       "      <th>StreamingTV</th>\n",
       "      <th>StreamingMovies</th>\n",
       "      <th>PaperlessBilling</th>\n",
       "      <th>PaymentMethod</th>\n",
       "      <th>tenure</th>\n",
       "      <th>TotalCharges</th>\n",
       "      <th>MonthlyCharges</th>\n",
       "      <th>Churn</th>\n",
       "    </tr>\n",
       "  </thead>\n",
       "  <tbody>\n",
       "    <tr>\n",
       "      <th>0</th>\n",
       "      <td>4269</td>\n",
       "      <td>Female</td>\n",
       "      <td>Yes</td>\n",
       "      <td>No</td>\n",
       "      <td>No phone service</td>\n",
       "      <td>No</td>\n",
       "      <td>DSL</td>\n",
       "      <td>Yes</td>\n",
       "      <td>Month-to-month</td>\n",
       "      <td>No</td>\n",
       "      <td>No</td>\n",
       "      <td>No</td>\n",
       "      <td>No</td>\n",
       "      <td>Yes</td>\n",
       "      <td>Electronic check</td>\n",
       "      <td>1</td>\n",
       "      <td>29.85</td>\n",
       "      <td>29.85</td>\n",
       "      <td>No</td>\n",
       "    </tr>\n",
       "    <tr>\n",
       "      <th>1</th>\n",
       "      <td>3548</td>\n",
       "      <td>Male</td>\n",
       "      <td>No</td>\n",
       "      <td>Yes</td>\n",
       "      <td>No</td>\n",
       "      <td>Yes</td>\n",
       "      <td>DSL</td>\n",
       "      <td>No</td>\n",
       "      <td>One year</td>\n",
       "      <td>Yes</td>\n",
       "      <td>No</td>\n",
       "      <td>No</td>\n",
       "      <td>No</td>\n",
       "      <td>No</td>\n",
       "      <td>Mailed check</td>\n",
       "      <td>34</td>\n",
       "      <td>1889.5</td>\n",
       "      <td>56.95</td>\n",
       "      <td>No</td>\n",
       "    </tr>\n",
       "    <tr>\n",
       "      <th>2</th>\n",
       "      <td>3953</td>\n",
       "      <td>Male</td>\n",
       "      <td>No</td>\n",
       "      <td>Yes</td>\n",
       "      <td>No</td>\n",
       "      <td>Yes</td>\n",
       "      <td>DSL</td>\n",
       "      <td>Yes</td>\n",
       "      <td>Month-to-month</td>\n",
       "      <td>No</td>\n",
       "      <td>No</td>\n",
       "      <td>No</td>\n",
       "      <td>No</td>\n",
       "      <td>Yes</td>\n",
       "      <td>Mailed check</td>\n",
       "      <td>2</td>\n",
       "      <td>108.15</td>\n",
       "      <td>53.85</td>\n",
       "      <td>Yes</td>\n",
       "    </tr>\n",
       "    <tr>\n",
       "      <th>3</th>\n",
       "      <td>227</td>\n",
       "      <td>Male</td>\n",
       "      <td>No</td>\n",
       "      <td>No</td>\n",
       "      <td>No phone service</td>\n",
       "      <td>Yes</td>\n",
       "      <td>DSL</td>\n",
       "      <td>No</td>\n",
       "      <td>One year</td>\n",
       "      <td>Yes</td>\n",
       "      <td>Yes</td>\n",
       "      <td>No</td>\n",
       "      <td>No</td>\n",
       "      <td>No</td>\n",
       "      <td>Bank transfer (automatic)</td>\n",
       "      <td>45</td>\n",
       "      <td>1840.75</td>\n",
       "      <td>42.30</td>\n",
       "      <td>No</td>\n",
       "    </tr>\n",
       "    <tr>\n",
       "      <th>4</th>\n",
       "      <td>6806</td>\n",
       "      <td>Female</td>\n",
       "      <td>No</td>\n",
       "      <td>Yes</td>\n",
       "      <td>No</td>\n",
       "      <td>No</td>\n",
       "      <td>Fiber optic</td>\n",
       "      <td>No</td>\n",
       "      <td>Month-to-month</td>\n",
       "      <td>No</td>\n",
       "      <td>No</td>\n",
       "      <td>No</td>\n",
       "      <td>No</td>\n",
       "      <td>Yes</td>\n",
       "      <td>Electronic check</td>\n",
       "      <td>2</td>\n",
       "      <td>151.65</td>\n",
       "      <td>70.70</td>\n",
       "      <td>Yes</td>\n",
       "    </tr>\n",
       "    <tr>\n",
       "      <th>5</th>\n",
       "      <td>6574</td>\n",
       "      <td>Female</td>\n",
       "      <td>No</td>\n",
       "      <td>Yes</td>\n",
       "      <td>Yes</td>\n",
       "      <td>No</td>\n",
       "      <td>Fiber optic</td>\n",
       "      <td>No</td>\n",
       "      <td>Month-to-month</td>\n",
       "      <td>Yes</td>\n",
       "      <td>No</td>\n",
       "      <td>Yes</td>\n",
       "      <td>Yes</td>\n",
       "      <td>Yes</td>\n",
       "      <td>Electronic check</td>\n",
       "      <td>8</td>\n",
       "      <td>820.5</td>\n",
       "      <td>99.65</td>\n",
       "      <td>Yes</td>\n",
       "    </tr>\n",
       "    <tr>\n",
       "      <th>6</th>\n",
       "      <td>1022</td>\n",
       "      <td>Male</td>\n",
       "      <td>No</td>\n",
       "      <td>Yes</td>\n",
       "      <td>Yes</td>\n",
       "      <td>No</td>\n",
       "      <td>Fiber optic</td>\n",
       "      <td>Yes</td>\n",
       "      <td>Month-to-month</td>\n",
       "      <td>No</td>\n",
       "      <td>No</td>\n",
       "      <td>Yes</td>\n",
       "      <td>No</td>\n",
       "      <td>Yes</td>\n",
       "      <td>Credit card (automatic)</td>\n",
       "      <td>22</td>\n",
       "      <td>1949.4</td>\n",
       "      <td>89.10</td>\n",
       "      <td>No</td>\n",
       "    </tr>\n",
       "    <tr>\n",
       "      <th>7</th>\n",
       "      <td>5189</td>\n",
       "      <td>Female</td>\n",
       "      <td>No</td>\n",
       "      <td>No</td>\n",
       "      <td>No phone service</td>\n",
       "      <td>Yes</td>\n",
       "      <td>DSL</td>\n",
       "      <td>No</td>\n",
       "      <td>Month-to-month</td>\n",
       "      <td>No</td>\n",
       "      <td>No</td>\n",
       "      <td>No</td>\n",
       "      <td>No</td>\n",
       "      <td>No</td>\n",
       "      <td>Mailed check</td>\n",
       "      <td>10</td>\n",
       "      <td>301.9</td>\n",
       "      <td>29.75</td>\n",
       "      <td>No</td>\n",
       "    </tr>\n",
       "    <tr>\n",
       "      <th>8</th>\n",
       "      <td>5947</td>\n",
       "      <td>Female</td>\n",
       "      <td>Yes</td>\n",
       "      <td>Yes</td>\n",
       "      <td>Yes</td>\n",
       "      <td>No</td>\n",
       "      <td>Fiber optic</td>\n",
       "      <td>No</td>\n",
       "      <td>Month-to-month</td>\n",
       "      <td>Yes</td>\n",
       "      <td>Yes</td>\n",
       "      <td>Yes</td>\n",
       "      <td>Yes</td>\n",
       "      <td>Yes</td>\n",
       "      <td>Electronic check</td>\n",
       "      <td>28</td>\n",
       "      <td>3046.05</td>\n",
       "      <td>104.80</td>\n",
       "      <td>Yes</td>\n",
       "    </tr>\n",
       "    <tr>\n",
       "      <th>9</th>\n",
       "      <td>3809</td>\n",
       "      <td>Male</td>\n",
       "      <td>No</td>\n",
       "      <td>Yes</td>\n",
       "      <td>No</td>\n",
       "      <td>Yes</td>\n",
       "      <td>DSL</td>\n",
       "      <td>Yes</td>\n",
       "      <td>One year</td>\n",
       "      <td>No</td>\n",
       "      <td>No</td>\n",
       "      <td>No</td>\n",
       "      <td>No</td>\n",
       "      <td>No</td>\n",
       "      <td>Bank transfer (automatic)</td>\n",
       "      <td>62</td>\n",
       "      <td>3487.95</td>\n",
       "      <td>56.15</td>\n",
       "      <td>No</td>\n",
       "    </tr>\n",
       "  </tbody>\n",
       "</table>\n",
       "</div>"
      ],
      "text/plain": [
       "   customerID  gender Partner PhoneService     MultipleLines OnlineSecurity  \\\n",
       "0        4269  Female     Yes           No  No phone service             No   \n",
       "1        3548    Male      No          Yes                No            Yes   \n",
       "2        3953    Male      No          Yes                No            Yes   \n",
       "3         227    Male      No           No  No phone service            Yes   \n",
       "4        6806  Female      No          Yes                No             No   \n",
       "5        6574  Female      No          Yes               Yes             No   \n",
       "6        1022    Male      No          Yes               Yes             No   \n",
       "7        5189  Female      No           No  No phone service            Yes   \n",
       "8        5947  Female     Yes          Yes               Yes             No   \n",
       "9        3809    Male      No          Yes                No            Yes   \n",
       "\n",
       "  InternetService OnlineBackup        Contract DeviceProtection TechSupport  \\\n",
       "0             DSL          Yes  Month-to-month               No          No   \n",
       "1             DSL           No        One year              Yes          No   \n",
       "2             DSL          Yes  Month-to-month               No          No   \n",
       "3             DSL           No        One year              Yes         Yes   \n",
       "4     Fiber optic           No  Month-to-month               No          No   \n",
       "5     Fiber optic           No  Month-to-month              Yes          No   \n",
       "6     Fiber optic          Yes  Month-to-month               No          No   \n",
       "7             DSL           No  Month-to-month               No          No   \n",
       "8     Fiber optic           No  Month-to-month              Yes         Yes   \n",
       "9             DSL          Yes        One year               No          No   \n",
       "\n",
       "  StreamingTV StreamingMovies PaperlessBilling              PaymentMethod  \\\n",
       "0          No              No              Yes           Electronic check   \n",
       "1          No              No               No               Mailed check   \n",
       "2          No              No              Yes               Mailed check   \n",
       "3          No              No               No  Bank transfer (automatic)   \n",
       "4          No              No              Yes           Electronic check   \n",
       "5         Yes             Yes              Yes           Electronic check   \n",
       "6         Yes              No              Yes    Credit card (automatic)   \n",
       "7          No              No               No               Mailed check   \n",
       "8         Yes             Yes              Yes           Electronic check   \n",
       "9          No              No               No  Bank transfer (automatic)   \n",
       "\n",
       "   tenure TotalCharges  MonthlyCharges Churn  \n",
       "0       1        29.85           29.85    No  \n",
       "1      34       1889.5           56.95    No  \n",
       "2       2       108.15           53.85   Yes  \n",
       "3      45      1840.75           42.30    No  \n",
       "4       2       151.65           70.70   Yes  \n",
       "5       8        820.5           99.65   Yes  \n",
       "6      22       1949.4           89.10    No  \n",
       "7      10        301.9           29.75    No  \n",
       "8      28      3046.05          104.80   Yes  \n",
       "9      62      3487.95           56.15    No  "
      ]
     },
     "execution_count": 9,
     "metadata": {},
     "output_type": "execute_result"
    }
   ],
   "source": [
    "dados.head(10)"
   ]
  },
  {
   "cell_type": "code",
   "execution_count": 10,
   "id": "macro-grace",
   "metadata": {},
   "outputs": [
    {
     "data": {
      "text/plain": [
       "customerID          0\n",
       "gender              0\n",
       "Partner             0\n",
       "PhoneService        0\n",
       "MultipleLines       0\n",
       "OnlineSecurity      0\n",
       "InternetService     0\n",
       "OnlineBackup        0\n",
       "Contract            0\n",
       "DeviceProtection    0\n",
       "TechSupport         0\n",
       "StreamingTV         0\n",
       "StreamingMovies     0\n",
       "PaperlessBilling    0\n",
       "PaymentMethod       0\n",
       "tenure              0\n",
       "TotalCharges        0\n",
       "MonthlyCharges      0\n",
       "Churn               0\n",
       "dtype: int64"
      ]
     },
     "execution_count": 10,
     "metadata": {},
     "output_type": "execute_result"
    }
   ],
   "source": [
    "#Verificando valores que podem está faltando na tabela Churn\n",
    "dados.isna().sum()"
   ]
  },
  {
   "cell_type": "code",
   "execution_count": 11,
   "id": "dedicated-resolution",
   "metadata": {},
   "outputs": [],
   "source": [
    "def to_float(value):\n",
    "    try:\n",
    "        return float(value)\n",
    "    except ValueError:\n",
    "        return np.nan\n",
    "    \n",
    "# convertendo os valores utilizando a função\n",
    "\n",
    "df_clean = dados.copy()\n",
    "df_clean['TotalCharges'] = df_clean['TotalCharges'].apply(to_float)"
   ]
  },
  {
   "cell_type": "code",
   "execution_count": 12,
   "id": "charged-certificate",
   "metadata": {},
   "outputs": [
    {
     "data": {
      "text/plain": [
       "11"
      ]
     },
     "execution_count": 12,
     "metadata": {},
     "output_type": "execute_result"
    }
   ],
   "source": [
    "#analisando se existe algum valor que não é numerico \n",
    "df_clean['TotalCharges'].isnull().sum()"
   ]
  },
  {
   "cell_type": "code",
   "execution_count": 13,
   "id": "general-chinese",
   "metadata": {},
   "outputs": [],
   "source": [
    "#salvando a mediana da coluna Totalcharges\n",
    "totalChargesMedia=df_clean['TotalCharges'].median()\n",
    "\n",
    "#preenchendo os valores não numericos com a mediana \n",
    "df_clean['TotalCharges'].fillna(totalChargesMedia, inplace=True)"
   ]
  },
  {
   "cell_type": "code",
   "execution_count": 14,
   "id": "secondary-pattern",
   "metadata": {},
   "outputs": [
    {
     "data": {
      "text/html": [
       "<div>\n",
       "<style scoped>\n",
       "    .dataframe tbody tr th:only-of-type {\n",
       "        vertical-align: middle;\n",
       "    }\n",
       "\n",
       "    .dataframe tbody tr th {\n",
       "        vertical-align: top;\n",
       "    }\n",
       "\n",
       "    .dataframe thead th {\n",
       "        text-align: right;\n",
       "    }\n",
       "</style>\n",
       "<table border=\"1\" class=\"dataframe\">\n",
       "  <thead>\n",
       "    <tr style=\"text-align: right;\">\n",
       "      <th></th>\n",
       "      <th>customerID</th>\n",
       "      <th>gender</th>\n",
       "      <th>Partner</th>\n",
       "      <th>PhoneService</th>\n",
       "      <th>MultipleLines</th>\n",
       "      <th>OnlineSecurity</th>\n",
       "      <th>InternetService</th>\n",
       "      <th>OnlineBackup</th>\n",
       "      <th>Contract</th>\n",
       "      <th>DeviceProtection</th>\n",
       "      <th>TechSupport</th>\n",
       "      <th>StreamingTV</th>\n",
       "      <th>StreamingMovies</th>\n",
       "      <th>PaperlessBilling</th>\n",
       "      <th>PaymentMethod</th>\n",
       "      <th>tenure</th>\n",
       "      <th>TotalCharges</th>\n",
       "      <th>MonthlyCharges</th>\n",
       "      <th>Churn</th>\n",
       "    </tr>\n",
       "  </thead>\n",
       "  <tbody>\n",
       "    <tr>\n",
       "      <th>0</th>\n",
       "      <td>4269</td>\n",
       "      <td>Female</td>\n",
       "      <td>Yes</td>\n",
       "      <td>No</td>\n",
       "      <td>No phone service</td>\n",
       "      <td>No</td>\n",
       "      <td>DSL</td>\n",
       "      <td>Yes</td>\n",
       "      <td>Month-to-month</td>\n",
       "      <td>No</td>\n",
       "      <td>No</td>\n",
       "      <td>No</td>\n",
       "      <td>No</td>\n",
       "      <td>Yes</td>\n",
       "      <td>Electronic check</td>\n",
       "      <td>1</td>\n",
       "      <td>29.85</td>\n",
       "      <td>29.85</td>\n",
       "      <td>No</td>\n",
       "    </tr>\n",
       "    <tr>\n",
       "      <th>1</th>\n",
       "      <td>3548</td>\n",
       "      <td>Male</td>\n",
       "      <td>No</td>\n",
       "      <td>Yes</td>\n",
       "      <td>No</td>\n",
       "      <td>Yes</td>\n",
       "      <td>DSL</td>\n",
       "      <td>No</td>\n",
       "      <td>One year</td>\n",
       "      <td>Yes</td>\n",
       "      <td>No</td>\n",
       "      <td>No</td>\n",
       "      <td>No</td>\n",
       "      <td>No</td>\n",
       "      <td>Mailed check</td>\n",
       "      <td>34</td>\n",
       "      <td>1889.50</td>\n",
       "      <td>56.95</td>\n",
       "      <td>No</td>\n",
       "    </tr>\n",
       "    <tr>\n",
       "      <th>2</th>\n",
       "      <td>3953</td>\n",
       "      <td>Male</td>\n",
       "      <td>No</td>\n",
       "      <td>Yes</td>\n",
       "      <td>No</td>\n",
       "      <td>Yes</td>\n",
       "      <td>DSL</td>\n",
       "      <td>Yes</td>\n",
       "      <td>Month-to-month</td>\n",
       "      <td>No</td>\n",
       "      <td>No</td>\n",
       "      <td>No</td>\n",
       "      <td>No</td>\n",
       "      <td>Yes</td>\n",
       "      <td>Mailed check</td>\n",
       "      <td>2</td>\n",
       "      <td>108.15</td>\n",
       "      <td>53.85</td>\n",
       "      <td>Yes</td>\n",
       "    </tr>\n",
       "    <tr>\n",
       "      <th>3</th>\n",
       "      <td>227</td>\n",
       "      <td>Male</td>\n",
       "      <td>No</td>\n",
       "      <td>No</td>\n",
       "      <td>No phone service</td>\n",
       "      <td>Yes</td>\n",
       "      <td>DSL</td>\n",
       "      <td>No</td>\n",
       "      <td>One year</td>\n",
       "      <td>Yes</td>\n",
       "      <td>Yes</td>\n",
       "      <td>No</td>\n",
       "      <td>No</td>\n",
       "      <td>No</td>\n",
       "      <td>Bank transfer (automatic)</td>\n",
       "      <td>45</td>\n",
       "      <td>1840.75</td>\n",
       "      <td>42.30</td>\n",
       "      <td>No</td>\n",
       "    </tr>\n",
       "    <tr>\n",
       "      <th>4</th>\n",
       "      <td>6806</td>\n",
       "      <td>Female</td>\n",
       "      <td>No</td>\n",
       "      <td>Yes</td>\n",
       "      <td>No</td>\n",
       "      <td>No</td>\n",
       "      <td>Fiber optic</td>\n",
       "      <td>No</td>\n",
       "      <td>Month-to-month</td>\n",
       "      <td>No</td>\n",
       "      <td>No</td>\n",
       "      <td>No</td>\n",
       "      <td>No</td>\n",
       "      <td>Yes</td>\n",
       "      <td>Electronic check</td>\n",
       "      <td>2</td>\n",
       "      <td>151.65</td>\n",
       "      <td>70.70</td>\n",
       "      <td>Yes</td>\n",
       "    </tr>\n",
       "  </tbody>\n",
       "</table>\n",
       "</div>"
      ],
      "text/plain": [
       "   customerID  gender Partner PhoneService     MultipleLines OnlineSecurity  \\\n",
       "0        4269  Female     Yes           No  No phone service             No   \n",
       "1        3548    Male      No          Yes                No            Yes   \n",
       "2        3953    Male      No          Yes                No            Yes   \n",
       "3         227    Male      No           No  No phone service            Yes   \n",
       "4        6806  Female      No          Yes                No             No   \n",
       "\n",
       "  InternetService OnlineBackup        Contract DeviceProtection TechSupport  \\\n",
       "0             DSL          Yes  Month-to-month               No          No   \n",
       "1             DSL           No        One year              Yes          No   \n",
       "2             DSL          Yes  Month-to-month               No          No   \n",
       "3             DSL           No        One year              Yes         Yes   \n",
       "4     Fiber optic           No  Month-to-month               No          No   \n",
       "\n",
       "  StreamingTV StreamingMovies PaperlessBilling              PaymentMethod  \\\n",
       "0          No              No              Yes           Electronic check   \n",
       "1          No              No               No               Mailed check   \n",
       "2          No              No              Yes               Mailed check   \n",
       "3          No              No               No  Bank transfer (automatic)   \n",
       "4          No              No              Yes           Electronic check   \n",
       "\n",
       "   tenure  TotalCharges  MonthlyCharges Churn  \n",
       "0       1         29.85           29.85    No  \n",
       "1      34       1889.50           56.95    No  \n",
       "2       2        108.15           53.85   Yes  \n",
       "3      45       1840.75           42.30    No  \n",
       "4       2        151.65           70.70   Yes  "
      ]
     },
     "execution_count": 14,
     "metadata": {},
     "output_type": "execute_result"
    }
   ],
   "source": [
    "df_clean.head()"
   ]
  },
  {
   "cell_type": "code",
   "execution_count": 15,
   "id": "numeric-terrain",
   "metadata": {},
   "outputs": [],
   "source": [
    "#Substituindo 'No internet service' por 'No' das colunas OnlineSecurity, OnlineBackup, DeviceProtection, TechSupport, StreamingTV, StreamingMovies\n",
    "\n",
    "col_nomes = ['OnlineSecurity', \\\n",
    "             'OnlineBackup', \\\n",
    "             'DeviceProtection', \\\n",
    "             'TechSupport', \\\n",
    "             'StreamingTV', \\\n",
    "             'StreamingMovies']\n",
    "\n",
    "for i in col_nomes:\n",
    "    df_clean[i] = df_clean[i].replace({'No internet service' : 'No'})\n",
    "\n"
   ]
  },
  {
   "cell_type": "markdown",
   "id": "micro-circumstances",
   "metadata": {},
   "source": [
    "Plotagem do histograma que é um grafico de frequência e nele é mostrado a variação sobre uma faixa específica. Eles descrevem a frequência com que variam os processos e a forma de distribuição dos dados como um todo. Nesta plotagem vamos avaliar a feature \"tenure\" que é referente ao número de meses que o cliente contratou o serviço."
   ]
  },
  {
   "cell_type": "code",
   "execution_count": 16,
   "id": "otherwise-effectiveness",
   "metadata": {},
   "outputs": [
    {
     "data": {
      "image/png": "[encoded data removed]",
      "text/plain": [
       "<Figure size 360x288 with 1 Axes>"
      ]
     },
     "metadata": {
      "needs_background": "light"
     },
     "output_type": "display_data"
    }
   ],
   "source": [
    "\n",
    "dados.hist(column=\"tenure\", bins=100)\n",
    "plt.show(90,45)"
   ]
  },
  {
   "cell_type": "markdown",
   "id": "advance-pilot",
   "metadata": {},
   "source": [
    "Com base nas imformações analisadas no histograma é criada uma função de faixa temporal onde o output será tranformada em uma nova feature com as faixas temporais de permanência no serviço. "
   ]
  },
  {
   "cell_type": "code",
   "execution_count": 17,
   "id": "angry-drilling",
   "metadata": {},
   "outputs": [],
   "source": [
    "#criação de uma função para classificação do número de meses que o cliente adquiriu o serviço\n",
    "\n",
    "def set_tempo_contrato(v):\n",
    "    if (v <=12):\n",
    "        return 'contract_0-12'\n",
    "    elif (v>12) and (v<=24):\n",
    "        return 'contract_13-24'\n",
    "    elif (v>24) and (v<=48):\n",
    "        return 'contract_25-48'\n",
    "    elif (v>48) and (v<=60):\n",
    "        return 'contract_49-60'\n",
    "    elif (v>60):\n",
    "        return 'contract_60'"
   ]
  },
  {
   "cell_type": "code",
   "execution_count": 18,
   "id": "copyrighted-falls",
   "metadata": {},
   "outputs": [],
   "source": [
    "#criando uma nova coluna com os valores de faixas temporais\n",
    "df_clean['contract_faixa'] = df_clean['tenure'].apply(set_tempo_contrato)\n"
   ]
  },
  {
   "cell_type": "markdown",
   "id": "intense-calvin",
   "metadata": {},
   "source": [
    "Como já sabemos este problema é de Regressão Logistíca, logo os dados são compostos principalmente por variáveis binárias ou de tipo categorico. Partindo desse pressuposto temos que verificar se em nossos dados a indicios de outliers. Vamos verificar se algum valor foge da normalidade e que se não tratado pode causar anomalias nos resultados que serão obtidos."
   ]
  },
  {
   "cell_type": "code",
   "execution_count": 19,
   "id": "pressed-syndicate",
   "metadata": {
    "scrolled": true
   },
   "outputs": [
    {
     "data": {
      "text/html": [
       "<div>\n",
       "<style scoped>\n",
       "    .dataframe tbody tr th:only-of-type {\n",
       "        vertical-align: middle;\n",
       "    }\n",
       "\n",
       "    .dataframe tbody tr th {\n",
       "        vertical-align: top;\n",
       "    }\n",
       "\n",
       "    .dataframe thead th {\n",
       "        text-align: right;\n",
       "    }\n",
       "</style>\n",
       "<table border=\"1\" class=\"dataframe\">\n",
       "  <thead>\n",
       "    <tr style=\"text-align: right;\">\n",
       "      <th></th>\n",
       "      <th>customerID</th>\n",
       "      <th>tenure</th>\n",
       "      <th>TotalCharges</th>\n",
       "      <th>MonthlyCharges</th>\n",
       "    </tr>\n",
       "  </thead>\n",
       "  <tbody>\n",
       "    <tr>\n",
       "      <th>count</th>\n",
       "      <td>7043.000000</td>\n",
       "      <td>7043.000000</td>\n",
       "      <td>7043.000000</td>\n",
       "      <td>7043.000000</td>\n",
       "    </tr>\n",
       "    <tr>\n",
       "      <th>mean</th>\n",
       "      <td>3513.050547</td>\n",
       "      <td>32.371149</td>\n",
       "      <td>2281.916928</td>\n",
       "      <td>64.761692</td>\n",
       "    </tr>\n",
       "    <tr>\n",
       "      <th>std</th>\n",
       "      <td>2059.918010</td>\n",
       "      <td>24.559481</td>\n",
       "      <td>2265.270398</td>\n",
       "      <td>30.090047</td>\n",
       "    </tr>\n",
       "    <tr>\n",
       "      <th>min</th>\n",
       "      <td>0.000000</td>\n",
       "      <td>0.000000</td>\n",
       "      <td>18.800000</td>\n",
       "      <td>18.250000</td>\n",
       "    </tr>\n",
       "    <tr>\n",
       "      <th>25%</th>\n",
       "      <td>1703.500000</td>\n",
       "      <td>9.000000</td>\n",
       "      <td>402.225000</td>\n",
       "      <td>35.500000</td>\n",
       "    </tr>\n",
       "    <tr>\n",
       "      <th>50%</th>\n",
       "      <td>3530.000000</td>\n",
       "      <td>29.000000</td>\n",
       "      <td>1397.475000</td>\n",
       "      <td>70.350000</td>\n",
       "    </tr>\n",
       "    <tr>\n",
       "      <th>75%</th>\n",
       "      <td>5316.000000</td>\n",
       "      <td>55.000000</td>\n",
       "      <td>3786.600000</td>\n",
       "      <td>89.850000</td>\n",
       "    </tr>\n",
       "    <tr>\n",
       "      <th>max</th>\n",
       "      <td>7043.000000</td>\n",
       "      <td>72.000000</td>\n",
       "      <td>8684.800000</td>\n",
       "      <td>118.750000</td>\n",
       "    </tr>\n",
       "  </tbody>\n",
       "</table>\n",
       "</div>"
      ],
      "text/plain": [
       "        customerID       tenure  TotalCharges  MonthlyCharges\n",
       "count  7043.000000  7043.000000   7043.000000     7043.000000\n",
       "mean   3513.050547    32.371149   2281.916928       64.761692\n",
       "std    2059.918010    24.559481   2265.270398       30.090047\n",
       "min       0.000000     0.000000     18.800000       18.250000\n",
       "25%    1703.500000     9.000000    402.225000       35.500000\n",
       "50%    3530.000000    29.000000   1397.475000       70.350000\n",
       "75%    5316.000000    55.000000   3786.600000       89.850000\n",
       "max    7043.000000    72.000000   8684.800000      118.750000"
      ]
     },
     "execution_count": 19,
     "metadata": {},
     "output_type": "execute_result"
    }
   ],
   "source": [
    "#imprimeindo os dados sem outliers\n",
    "df_clean.describe()"
   ]
  },
  {
   "cell_type": "markdown",
   "id": "latin-garden",
   "metadata": {},
   "source": [
    "Para ter a certeza que os outiliers não estão presente no nossos dados, vou realizar o cálculo matemático entre o primeiro e terceiro quartil. Esse cálculo é aplicado para as colunas \"TotalCharges\" e \"MonthlyCharges\""
   ]
  },
  {
   "cell_type": "code",
   "execution_count": 20,
   "id": "alive-writer",
   "metadata": {},
   "outputs": [
    {
     "name": "stdout",
     "output_type": "stream",
     "text": [
      "8863.1625\n",
      "-4674.3375\n"
     ]
    },
    {
     "data": {
      "image/png": "[encoded data removed]",
      "text/plain": [
       "<Figure size 360x288 with 1 Axes>"
      ]
     },
     "metadata": {
      "needs_background": "light"
     },
     "output_type": "display_data"
    }
   ],
   "source": [
    "#Outliers é um dado que se encontra fora do padrão global de uma distribuíção \n",
    "#O calculo do IQR x 1.5 é feito para excluir qulquer ruído de dados \n",
    "\n",
    "df_clean[\"TotalCharges\"].astype(float)\n",
    "Q1 = df_clean['TotalCharges'].quantile(q=0.25)\n",
    "Q3 = df_clean['TotalCharges'].quantile(q=0.75)\n",
    "\n",
    "IQR=Q3-Q1 #mediana\n",
    "filtered = df_clean.query('(@Q1 - 1.5 * @IQR) <= TotalCharges <= (@Q3 + 1.5 * @IQR)')\n",
    "df_clean.join(filtered, rsuffix='filtered')\n",
    "plt.boxplot(df_clean['TotalCharges'], labels=['Valor Total']);\n",
    "\n",
    "#Para visualizar com precisão os valores do limite superior e do limite inferior \n",
    "#utilizei a constante de 1.5 pois é o valor comumente usado\n",
    "print(Q3+1.5*IQR)\n",
    "print(Q1-1.5*IQR)\n",
    "\n"
   ]
  },
  {
   "cell_type": "code",
   "execution_count": 21,
   "id": "attractive-qatar",
   "metadata": {},
   "outputs": [
    {
     "name": "stdout",
     "output_type": "stream",
     "text": [
      "171.375\n",
      "-46.02499999999999\n"
     ]
    },
    {
     "data": {
      "image/png": "[encoded data removed]",
      "text/plain": [
       "<Figure size 360x288 with 1 Axes>"
      ]
     },
     "metadata": {
      "needs_background": "light"
     },
     "output_type": "display_data"
    }
   ],
   "source": [
    "\n",
    "df_clean[\"MonthlyCharges\"].astype(float)\n",
    "Q1 = df_clean['MonthlyCharges'].quantile(q=0.25)\n",
    "Q3 = df_clean['MonthlyCharges'].quantile(q=0.75)\n",
    "\n",
    "IQR=Q3-Q1 #mediana\n",
    "filtered = df_clean.query('(@Q1 - 1.5 * @IQR) <= MonthlyCharges <= (@Q3 + 1.5 * @IQR)')\n",
    "df_clean.join(filtered, rsuffix='_filtered')\n",
    "plt.boxplot(df_clean['MonthlyCharges'], labels=['Valor Mensal']);\n",
    "\n",
    "\n",
    "#Para visualizar com precisão os valor\n",
    "print(Q3+1.5*IQR)\n",
    "print(Q1-1.5*IQR)\n"
   ]
  },
  {
   "cell_type": "markdown",
   "id": "worth-flooring",
   "metadata": {},
   "source": [
    "# Pré-processamento dos Dados "
   ]
  },
  {
   "cell_type": "markdown",
   "id": "fatty-kelly",
   "metadata": {},
   "source": [
    "Para um engenheiro de Machine Learning é de extrema importância realizar: \n",
    "- Visualização;\n",
    "- Depuração;\n",
    "- Monitorização. \n",
    "\n",
    "Esses são passos importantes para preparar os dados para o modelo ML que será desenvolvido e assim poder obter bons resultados. Além de serem consideradas boas práticas na aprendizagem de máquina. Pois em nosso dados pode haver peculiaridades. Essa parte do processamento serve para conhecer melhor os dados e entender como está sendo a sua distribuição. \n",
    "\n",
    " "
   ]
  },
  {
   "cell_type": "code",
   "execution_count": 22,
   "id": "protected-conviction",
   "metadata": {},
   "outputs": [
    {
     "data": {
      "text/plain": [
       "<seaborn.axisgrid.FacetGrid at 0x2d6685558b0>"
      ]
     },
     "execution_count": 22,
     "metadata": {},
     "output_type": "execute_result"
    },
    {
     "data": {
      "image/png": "[encoded data removed]",
      "text/plain": [
       "<Figure size 360x360 with 1 Axes>"
      ]
     },
     "metadata": {
      "needs_background": "light"
     },
     "output_type": "display_data"
    }
   ],
   "source": [
    "#Gerando um gráfico de distrinuição dos valores pagos mensalmente por todos os clientes.\n",
    "sns.displot(df_clean.MonthlyCharges)"
   ]
  },
  {
   "cell_type": "markdown",
   "id": "noted-florida",
   "metadata": {},
   "source": [
    "Gerando gráfico de distribuição de todos os valores pagos pelos clientes "
   ]
  },
  {
   "cell_type": "code",
   "execution_count": 23,
   "id": "healthy-flash",
   "metadata": {},
   "outputs": [
    {
     "data": {
      "text/plain": [
       "<seaborn.axisgrid.FacetGrid at 0x2d668678580>"
      ]
     },
     "execution_count": 23,
     "metadata": {},
     "output_type": "execute_result"
    },
    {
     "data": {
      "image/png": "[encoded data removed]",
      "text/plain": [
       "<Figure size 360x360 with 1 Axes>"
      ]
     },
     "metadata": {
      "needs_background": "light"
     },
     "output_type": "display_data"
    }
   ],
   "source": [
    "sns.displot(df_clean.TotalCharges)"
   ]
  },
  {
   "cell_type": "markdown",
   "id": "nutritional-modern",
   "metadata": {},
   "source": [
    "Plotando grafico de barras com faixas temporais de permanência de serviço (tenure)"
   ]
  },
  {
   "cell_type": "code",
   "execution_count": 24,
   "id": "potential-paint",
   "metadata": {},
   "outputs": [
    {
     "data": {
      "image/png": "[encoded data removed]",
      "text/plain": [
       "<Figure size 1152x288 with 1 Axes>"
      ]
     },
     "metadata": {
      "needs_background": "light"
     },
     "output_type": "display_data"
    }
   ],
   "source": [
    "fig, ax = plt.subplots(figsize=(16,4))\n",
    "sns.countplot(x=df_clean['contract_faixa'], ax=ax, palette='RdPu')\n",
    "ax.set_xticklabels(('Entre 0 e 12', 'Entre 25 e 48', 'Entre 13 e 24', 'Mais de 60', 'Entre 49 e 60'))\n",
    "ax.set_xlabel('')\n",
    "ax.set_title('Faixas Temporais')\n",
    "ax.set_ylabel('quantidade')\n",
    "fig.tight_layout()\n"
   ]
  },
  {
   "cell_type": "markdown",
   "id": "sophisticated-botswana",
   "metadata": {},
   "source": [
    "Plotagem do gráfico de barras da quantidade de cliente que optou por contrato mensal, anual ou de 2 anos."
   ]
  },
  {
   "cell_type": "code",
   "execution_count": 25,
   "id": "cardiac-hampton",
   "metadata": {},
   "outputs": [
    {
     "data": {
      "image/png": "[encoded data removed]",
      "text/plain": [
       "<Figure size 864x288 with 1 Axes>"
      ]
     },
     "metadata": {
      "needs_background": "light"
     },
     "output_type": "display_data"
    }
   ],
   "source": [
    "fig, ax = plt.subplots(figsize=(12,4))\n",
    "sns.countplot(x=df_clean['Contract'], ax=ax, palette='Oranges_r')\n",
    "ax.set_xticklabels(('Mensal', 'Anual', '2 anos'))\n",
    "ax.set_xlabel('')\n",
    "ax.set_title('Tipo de Contrato')\n",
    "ax.set_ylabel('quantidade')\n",
    "fig.tight_layout()\n"
   ]
  },
  {
   "cell_type": "markdown",
   "id": "crazy-method",
   "metadata": {},
   "source": [
    "Plotagem em gráfico de barras das formas de pagamento que o cliente opta. "
   ]
  },
  {
   "cell_type": "code",
   "execution_count": 26,
   "id": "experienced-advertiser",
   "metadata": {},
   "outputs": [
    {
     "data": {
      "image/png": "[encoded data removed]",
      "text/plain": [
       "<Figure size 864x288 with 1 Axes>"
      ]
     },
     "metadata": {
      "needs_background": "light"
     },
     "output_type": "display_data"
    }
   ],
   "source": [
    "fig, ax = plt.subplots(figsize=(12,4))\n",
    "sns.countplot(x=df_clean['PaymentMethod'], ax=ax, palette='summer')\n",
    "ax.set_xlabel('')\n",
    "ax.set_title('Formas de Pagamento')\n",
    "ax.set_ylabel('quantidade')\n",
    "fig.tight_layout()"
   ]
  },
  {
   "cell_type": "code",
   "execution_count": 27,
   "id": "driving-river",
   "metadata": {},
   "outputs": [
    {
     "data": {
      "image/png": "[encoded data removed]",
      "text/plain": [
       "<Figure size 720x288 with 1 Axes>"
      ]
     },
     "metadata": {
      "needs_background": "light"
     },
     "output_type": "display_data"
    }
   ],
   "source": [
    "fig, ax = plt.subplots(figsize=(10,4))\n",
    "sns.countplot(x=df_clean['gender'], ax=ax, palette='pink')\n",
    "ax.set_xticklabels(('Masculino', 'Feminino'))\n",
    "ax.set_xlabel('')\n",
    "ax.set_title('Gênero')\n",
    "ax.set_ylabel('quantidade')\n",
    "fig.tight_layout()"
   ]
  },
  {
   "cell_type": "code",
   "execution_count": 28,
   "id": "genetic-antigua",
   "metadata": {},
   "outputs": [
    {
     "data": {
      "text/plain": [
       "array([<AxesSubplot:title={'center':'tenure'}>,\n",
       "       <AxesSubplot:title={'center':'MonthlyCharges'}>], dtype=object)"
      ]
     },
     "execution_count": 28,
     "metadata": {},
     "output_type": "execute_result"
    },
    {
     "data": {
      "image/png": "[encoded data removed]",
      "text/plain": [
       "<Figure size 2016x576 with 2 Axes>"
      ]
     },
     "metadata": {
      "needs_background": "light"
     },
     "output_type": "display_data"
    }
   ],
   "source": [
    "numero_features=['tenure', 'MonthlyCharges']\n",
    "fig, ax=plt.subplots(1,2, figsize=(28,8))\n",
    "df_clean[df_clean.Churn=='No'][numero_features].hist(bins=20, color='red', alpha=0.5, ax=ax)\n",
    "df_clean[df_clean.Churn=='Yes'][numero_features].hist(bins=20, color='blue', alpha=0.5, ax=ax)\n"
   ]
  },
  {
   "cell_type": "markdown",
   "id": "offensive-carol",
   "metadata": {},
   "source": [
    "Agora vamos finalmente visualizar a porcentagem de churn ou N-churn dos nossos dados de acordo com a feature Churn "
   ]
  },
  {
   "cell_type": "code",
   "execution_count": 29,
   "id": "legislative-trademark",
   "metadata": {},
   "outputs": [
    {
     "name": "stdout",
     "output_type": "stream",
     "text": [
      "73.4630129206304 % de clientes ainda estão na companhia.\n",
      "26.536987079369588 % de clientes que saíram da companhia.\n"
     ]
    }
   ],
   "source": [
    "num_retained=df_clean[df_clean.Churn=='No'].shape[0]\n",
    "num_churned= df_clean[df_clean.Churn=='Yes'].shape[0]\n",
    "print(num_retained/(num_retained + num_churned) * 100, '% de clientes ainda estão na companhia.')\n",
    "\n",
    "print(num_churned/(num_churned + num_retained) * 100, '% de clientes que saíram da companhia.')"
   ]
  },
  {
   "cell_type": "code",
   "execution_count": 30,
   "id": "exciting-blood",
   "metadata": {},
   "outputs": [
    {
     "data": {
      "image/png": "[encoded data removed]",
      "text/plain": [
       "<Figure size 864x288 with 1 Axes>"
      ]
     },
     "metadata": {
      "needs_background": "light"
     },
     "output_type": "display_data"
    }
   ],
   "source": [
    "fig, ax = plt.subplots(figsize=(12,4))\n",
    "sns.countplot(x=df_clean['Churn'], ax=ax, palette='viridis_r')\n",
    "ax.set_xticklabels(('Não', 'Sim'))\n",
    "ax.set_xlabel('')\n",
    "ax.set_title('Aconteceu abandono do serviço?')\n",
    "ax.set_ylabel('quantidade')\n",
    "fig.tight_layout()"
   ]
  },
  {
   "cell_type": "code",
   "execution_count": 31,
   "id": "unsigned-cable",
   "metadata": {},
   "outputs": [],
   "source": [
    "df_clean.loc[df_clean.Churn=='No','Churn'] = 0 \n",
    "df_clean.loc[df_clean.Churn=='Yes','Churn'] = 1"
   ]
  },
  {
   "cell_type": "code",
   "execution_count": 32,
   "id": "norman-flush",
   "metadata": {},
   "outputs": [
    {
     "data": {
      "text/plain": [
       "array([5174, 1869], dtype=int64)"
      ]
     },
     "execution_count": 32,
     "metadata": {},
     "output_type": "execute_result"
    }
   ],
   "source": [
    "df_clean[\"Churn\"].value_counts().values"
   ]
  },
  {
   "cell_type": "code",
   "execution_count": 33,
   "id": "removable-siemens",
   "metadata": {},
   "outputs": [],
   "source": [
    "df_clean[\"Churn\"]=df_clean[\"Churn\"].astype(int)"
   ]
  },
  {
   "cell_type": "code",
   "execution_count": 6,
   "id": "accredited-quarter",
   "metadata": {},
   "outputs": [
    {
     "ename": "NameError",
     "evalue": "name 'df_clean' is not defined",
     "output_type": "error",
     "traceback": [
      "\u001b[1;31m---------------------------------------------------------------------------\u001b[0m",
      "\u001b[1;31mNameError\u001b[0m                                 Traceback (most recent call last)",
      "\u001b[1;32m<ipython-input-6-8eb6f23c7ab2>\u001b[0m in \u001b[0;36m<module>\u001b[1;34m\u001b[0m\n\u001b[0;32m      1\u001b[0m \u001b[1;31m# Visualizando a relação entre Tenure e Churn rate\u001b[0m\u001b[1;33m\u001b[0m\u001b[1;33m\u001b[0m\u001b[1;33m\u001b[0m\u001b[0m\n\u001b[1;32m----> 2\u001b[1;33m \u001b[0mplot_by_tenure\u001b[0m \u001b[1;33m=\u001b[0m \u001b[0mdf_clean\u001b[0m\u001b[1;33m.\u001b[0m\u001b[0mgroupby\u001b[0m\u001b[1;33m(\u001b[0m\u001b[1;34m'tenure'\u001b[0m\u001b[1;33m)\u001b[0m\u001b[1;33m.\u001b[0m\u001b[0mChurn\u001b[0m\u001b[1;33m.\u001b[0m\u001b[0mmean\u001b[0m\u001b[1;33m(\u001b[0m\u001b[1;33m)\u001b[0m\u001b[1;33m.\u001b[0m\u001b[0mreset_index\u001b[0m\u001b[1;33m(\u001b[0m\u001b[1;33m)\u001b[0m\u001b[1;33m\u001b[0m\u001b[1;33m\u001b[0m\u001b[0m\n\u001b[0m\u001b[0;32m      3\u001b[0m plot_data = [\n\u001b[0;32m      4\u001b[0m     go.Scatter(\n\u001b[0;32m      5\u001b[0m         \u001b[0mx\u001b[0m\u001b[1;33m=\u001b[0m\u001b[0mplot_by_tenure\u001b[0m\u001b[1;33m[\u001b[0m\u001b[1;34m'tenure'\u001b[0m\u001b[1;33m]\u001b[0m\u001b[1;33m,\u001b[0m\u001b[1;33m\u001b[0m\u001b[1;33m\u001b[0m\u001b[0m\n",
      "\u001b[1;31mNameError\u001b[0m: name 'df_clean' is not defined"
     ]
    }
   ],
   "source": [
    "# Visualizando a relação entre Tenure e Churn rate\n",
    "plot_by_tenure = df_clean.groupby('tenure').Churn.mean().reset_index()\n",
    "plot_data = [\n",
    "    go.Scatter(\n",
    "        x=plot_by_tenure['tenure'],\n",
    "        y=plot_by_tenure['Churn'],\n",
    "        mode='markers',\n",
    "        name='Low',\n",
    "        marker= dict(size= 5,\n",
    "            line= dict(width=0.8),\n",
    "            color= 'green'\n",
    "           ),\n",
    "    )\n",
    "]\n",
    "plot_layout = go.Layout(\n",
    "        yaxis= {'title': \"Churn Rate\"},\n",
    "        xaxis= {'title': \"Tenure\"},\n",
    "        title='Relação entre features Tenure e Churn',\n",
    "        plot_bgcolor  = \"rgb(243,243,243)\",\n",
    "        paper_bgcolor  = \"rgb(243,243,243)\",\n",
    "    )\n",
    "fig = go.Figure(data=plot_data, layout=plot_layout)\n",
    "po.iplot(fig)\n"
   ]
  },
  {
   "cell_type": "markdown",
   "id": "peaceful-excerpt",
   "metadata": {},
   "source": [
    "Para ver a tendência entre a tenure e churn,foi construido um gráfico de dispersão. Podemos obeservar que quanto maior o tempo de contrato, menor será o risco do cliente abandonar o serviço."
   ]
  },
  {
   "cell_type": "code",
   "execution_count": 35,
   "id": "clean-alaska",
   "metadata": {},
   "outputs": [
    {
     "data": {
      "image/png": "[encoded data removed]",
      "text/plain": [
       "<Figure size 864x432 with 2 Axes>"
      ]
     },
     "metadata": {
      "needs_background": "light"
     },
     "output_type": "display_data"
    }
   ],
   "source": [
    "fig, (ax1,ax2) = plt.subplots(nrows=1, ncols=2, figsize=(12,6))\n",
    "plt.subplots_adjust(wspace=.5)\n",
    "sns.countplot(x=df_clean['OnlineBackup'], ax=ax1)\n",
    "sns.countplot(x=df_clean['OnlineSecurity'], ax=ax2)\n",
    "ax1.set_label('Backup Online')\n",
    "ax2.set_label('Security online')\n",
    "\n",
    "\n",
    "\n",
    "\n"
   ]
  },
  {
   "cell_type": "code",
   "execution_count": 36,
   "id": "activated-elephant",
   "metadata": {},
   "outputs": [
    {
     "data": {
      "image/png": "[encoded data removed]",
      "text/plain": [
       "<Figure size 864x432 with 2 Axes>"
      ]
     },
     "metadata": {
      "needs_background": "light"
     },
     "output_type": "display_data"
    }
   ],
   "source": [
    "fig, (ax1,ax2) = plt.subplots(nrows=1, ncols=2, figsize=(12,6))\n",
    "plt.subplots_adjust(wspace=.5)\n",
    "sns.countplot(x=df_clean['DeviceProtection'], ax=ax1, palette='plasma_r')\n",
    "sns.countplot(x=df_clean['StreamingTV'], ax=ax2)\n",
    "ax1.set_label('DeviceProtection')\n",
    "ax2.set_label('Stream TV')"
   ]
  },
  {
   "cell_type": "code",
   "execution_count": 37,
   "id": "comparable-removal",
   "metadata": {},
   "outputs": [
    {
     "data": {
      "image/png": "[encoded data removed]",
      "text/plain": [
       "<Figure size 864x432 with 2 Axes>"
      ]
     },
     "metadata": {
      "needs_background": "light"
     },
     "output_type": "display_data"
    }
   ],
   "source": [
    "fig, (ax1,ax2) = plt.subplots(nrows=1, ncols=2, figsize=(12,6))\n",
    "plt.subplots_adjust(wspace=.5)\n",
    "sns.countplot(x=df_clean['TechSupport'], ax=ax1, palette='Paired_r')\n",
    "sns.countplot(x=df_clean['StreamingMovies'], ax=ax2)\n",
    "ax1.set_label('Tech Support')\n",
    "ax2.set_label('Stream Movies')"
   ]
  },
  {
   "cell_type": "markdown",
   "id": "preliminary-composition",
   "metadata": {},
   "source": [
    "Depois de analisar todos os resultados do processamento dos dados podemos observar que as distribuíções possuem valores númericos contínuos e distribuições desbalanceadas. Para resolver esse problema vou realizar a normalização de atributos númericos. Essa técnica pode ser utilizada quando o conjunto de dados reais apresenta atributos contínuos que estão espalhados por distintas faixas de valores ou que possuem diferentes variações de valores, e isso se dá pela natureza ou escala em que foram medidas os dados. Para realizar a normalização vou utitlizar a biblioteca do Sklearn MinMaxScaler (Por padrão, o metodo reescala com min=0 e max=1\n"
   ]
  },
  {
   "cell_type": "code",
   "execution_count": 38,
   "id": "seeing-movement",
   "metadata": {},
   "outputs": [],
   "source": [
    "data_amp=df_clean[['MonthlyCharges', 'tenure', 'TotalCharges']]\n"
   ]
  },
  {
   "cell_type": "code",
   "execution_count": 38,
   "id": "sealed-scientist",
   "metadata": {},
   "outputs": [
    {
     "data": {
      "text/html": [
       "<div>\n",
       "<style scoped>\n",
       "    .dataframe tbody tr th:only-of-type {\n",
       "        vertical-align: middle;\n",
       "    }\n",
       "\n",
       "    .dataframe tbody tr th {\n",
       "        vertical-align: top;\n",
       "    }\n",
       "\n",
       "    .dataframe thead th {\n",
       "        text-align: right;\n",
       "    }\n",
       "</style>\n",
       "<table border=\"1\" class=\"dataframe\">\n",
       "  <thead>\n",
       "    <tr style=\"text-align: right;\">\n",
       "      <th></th>\n",
       "      <th>MonthlyCharges</th>\n",
       "      <th>tenure</th>\n",
       "      <th>TotalCharges</th>\n",
       "    </tr>\n",
       "  </thead>\n",
       "  <tbody>\n",
       "    <tr>\n",
       "      <th>0</th>\n",
       "      <td>29.85</td>\n",
       "      <td>1</td>\n",
       "      <td>29.85</td>\n",
       "    </tr>\n",
       "    <tr>\n",
       "      <th>1</th>\n",
       "      <td>56.95</td>\n",
       "      <td>34</td>\n",
       "      <td>1889.50</td>\n",
       "    </tr>\n",
       "  </tbody>\n",
       "</table>\n",
       "</div>"
      ],
      "text/plain": [
       "   MonthlyCharges  tenure  TotalCharges\n",
       "0           29.85       1         29.85\n",
       "1           56.95      34       1889.50"
      ]
     },
     "execution_count": 38,
     "metadata": {},
     "output_type": "execute_result"
    }
   ],
   "source": [
    "data_amp.head(2)"
   ]
  },
  {
   "cell_type": "code",
   "execution_count": 39,
   "id": "unknown-dutch",
   "metadata": {},
   "outputs": [
    {
     "name": "stdout",
     "output_type": "stream",
     "text": [
      "MinMaxScaler aplicado nos dados:\n",
      " [[0.11542289 0.01388889 0.0012751 ]\n",
      " [0.38507463 0.47222222 0.21586661]\n",
      " [0.35422886 0.02777778 0.01031041]\n",
      " ...\n",
      " [0.11293532 0.15277778 0.03780868]\n",
      " [0.55870647 0.05555556 0.03321025]\n",
      " [0.86965174 0.91666667 0.78764136]]\n"
     ]
    }
   ],
   "source": [
    "scalar=MinMaxScaler()\n",
    "data_minmax=scalar.fit_transform(data_amp)\n",
    "print('MinMaxScaler aplicado nos dados:\\n', data_minmax)\n"
   ]
  },
  {
   "cell_type": "markdown",
   "id": "interracial-pilot",
   "metadata": {},
   "source": [
    "# Label Encoding | One-Hot Encoding"
   ]
  },
  {
   "cell_type": "markdown",
   "id": "forced-interview",
   "metadata": {},
   "source": [
    "Quando o assunto é Label Encoding e One-Hot Encoding já temos em mente a codificação categórica que é um processo de conversão de categorias em números. \n",
    "\n",
    "Como já introduzido anteriormente a regressão logística é um método estatístico para prever classes binárias. O resultado ou variável-alvo é dicotômica por natureza. Dicotômico significa que existem apenas duas classes possíveis. E nesse caso é usado para detectar Churn. O modelo calcula a probabilidade dessa ocorrência.\n",
    "\n",
    "Label Encoding é uma técnica de codificação para lidar com variáveis categóricas. Nesta técnica, cada rótulo é atribuído a um número inteiro exclusivo com base na ordem alfabética.\n",
    "\n",
    "One-hot Encoding é outra técnica para tratar variáveis categóricas. São criados recursos adicionais com base no número de valores exclusivos na feature categórica."
   ]
  },
  {
   "cell_type": "code",
   "execution_count": 39,
   "id": "committed-latest",
   "metadata": {},
   "outputs": [],
   "source": [
    "binary_cols = df_clean.nunique()[df_clean.nunique() == 2].keys().tolist()\n",
    "num_cols = [a for a in df_clean.select_dtypes(['int', 'float']).columns.tolist() if a not in binary_cols]\n",
    "categoria_col = [a for a in df_clean.columns.tolist() if a not in binary_cols + num_cols]"
   ]
  },
  {
   "cell_type": "code",
   "execution_count": 40,
   "id": "looking-klein",
   "metadata": {},
   "outputs": [],
   "source": [
    "df_change = df_clean.copy()\n",
    "\n",
    "lblencoder = LabelEncoder()\n",
    "for i in binary_cols:\n",
    "    df_change[i] = lblencoder.fit_transform(df_change[i])\n",
    "    \n",
    "df_change = pd.get_dummies(df_change, columns = categoria_col)"
   ]
  },
  {
   "cell_type": "code",
   "execution_count": 41,
   "id": "matched-scale",
   "metadata": {},
   "outputs": [
    {
     "data": {
      "text/html": [
       "<div>\n",
       "<style scoped>\n",
       "    .dataframe tbody tr th:only-of-type {\n",
       "        vertical-align: middle;\n",
       "    }\n",
       "\n",
       "    .dataframe tbody tr th {\n",
       "        vertical-align: top;\n",
       "    }\n",
       "\n",
       "    .dataframe thead th {\n",
       "        text-align: right;\n",
       "    }\n",
       "</style>\n",
       "<table border=\"1\" class=\"dataframe\">\n",
       "  <thead>\n",
       "    <tr style=\"text-align: right;\">\n",
       "      <th></th>\n",
       "      <th>customerID</th>\n",
       "      <th>gender</th>\n",
       "      <th>Partner</th>\n",
       "      <th>PhoneService</th>\n",
       "      <th>OnlineSecurity</th>\n",
       "      <th>OnlineBackup</th>\n",
       "      <th>DeviceProtection</th>\n",
       "      <th>TechSupport</th>\n",
       "      <th>StreamingTV</th>\n",
       "      <th>StreamingMovies</th>\n",
       "      <th>...</th>\n",
       "      <th>tenure_68</th>\n",
       "      <th>tenure_69</th>\n",
       "      <th>tenure_70</th>\n",
       "      <th>tenure_71</th>\n",
       "      <th>tenure_72</th>\n",
       "      <th>contract_faixa_contract_0-12</th>\n",
       "      <th>contract_faixa_contract_13-24</th>\n",
       "      <th>contract_faixa_contract_25-48</th>\n",
       "      <th>contract_faixa_contract_49-60</th>\n",
       "      <th>contract_faixa_contract_60</th>\n",
       "    </tr>\n",
       "  </thead>\n",
       "  <tbody>\n",
       "    <tr>\n",
       "      <th>0</th>\n",
       "      <td>4269</td>\n",
       "      <td>0</td>\n",
       "      <td>1</td>\n",
       "      <td>0</td>\n",
       "      <td>0</td>\n",
       "      <td>1</td>\n",
       "      <td>0</td>\n",
       "      <td>0</td>\n",
       "      <td>0</td>\n",
       "      <td>0</td>\n",
       "      <td>...</td>\n",
       "      <td>0</td>\n",
       "      <td>0</td>\n",
       "      <td>0</td>\n",
       "      <td>0</td>\n",
       "      <td>0</td>\n",
       "      <td>1</td>\n",
       "      <td>0</td>\n",
       "      <td>0</td>\n",
       "      <td>0</td>\n",
       "      <td>0</td>\n",
       "    </tr>\n",
       "    <tr>\n",
       "      <th>1</th>\n",
       "      <td>3548</td>\n",
       "      <td>1</td>\n",
       "      <td>0</td>\n",
       "      <td>1</td>\n",
       "      <td>1</td>\n",
       "      <td>0</td>\n",
       "      <td>1</td>\n",
       "      <td>0</td>\n",
       "      <td>0</td>\n",
       "      <td>0</td>\n",
       "      <td>...</td>\n",
       "      <td>0</td>\n",
       "      <td>0</td>\n",
       "      <td>0</td>\n",
       "      <td>0</td>\n",
       "      <td>0</td>\n",
       "      <td>0</td>\n",
       "      <td>0</td>\n",
       "      <td>1</td>\n",
       "      <td>0</td>\n",
       "      <td>0</td>\n",
       "    </tr>\n",
       "    <tr>\n",
       "      <th>2</th>\n",
       "      <td>3953</td>\n",
       "      <td>1</td>\n",
       "      <td>0</td>\n",
       "      <td>1</td>\n",
       "      <td>1</td>\n",
       "      <td>1</td>\n",
       "      <td>0</td>\n",
       "      <td>0</td>\n",
       "      <td>0</td>\n",
       "      <td>0</td>\n",
       "      <td>...</td>\n",
       "      <td>0</td>\n",
       "      <td>0</td>\n",
       "      <td>0</td>\n",
       "      <td>0</td>\n",
       "      <td>0</td>\n",
       "      <td>1</td>\n",
       "      <td>0</td>\n",
       "      <td>0</td>\n",
       "      <td>0</td>\n",
       "      <td>0</td>\n",
       "    </tr>\n",
       "    <tr>\n",
       "      <th>3</th>\n",
       "      <td>227</td>\n",
       "      <td>1</td>\n",
       "      <td>0</td>\n",
       "      <td>0</td>\n",
       "      <td>1</td>\n",
       "      <td>0</td>\n",
       "      <td>1</td>\n",
       "      <td>1</td>\n",
       "      <td>0</td>\n",
       "      <td>0</td>\n",
       "      <td>...</td>\n",
       "      <td>0</td>\n",
       "      <td>0</td>\n",
       "      <td>0</td>\n",
       "      <td>0</td>\n",
       "      <td>0</td>\n",
       "      <td>0</td>\n",
       "      <td>0</td>\n",
       "      <td>1</td>\n",
       "      <td>0</td>\n",
       "      <td>0</td>\n",
       "    </tr>\n",
       "    <tr>\n",
       "      <th>4</th>\n",
       "      <td>6806</td>\n",
       "      <td>0</td>\n",
       "      <td>0</td>\n",
       "      <td>1</td>\n",
       "      <td>0</td>\n",
       "      <td>0</td>\n",
       "      <td>0</td>\n",
       "      <td>0</td>\n",
       "      <td>0</td>\n",
       "      <td>0</td>\n",
       "      <td>...</td>\n",
       "      <td>0</td>\n",
       "      <td>0</td>\n",
       "      <td>0</td>\n",
       "      <td>0</td>\n",
       "      <td>0</td>\n",
       "      <td>1</td>\n",
       "      <td>0</td>\n",
       "      <td>0</td>\n",
       "      <td>0</td>\n",
       "      <td>0</td>\n",
       "    </tr>\n",
       "  </tbody>\n",
       "</table>\n",
       "<p>5 rows × 105 columns</p>\n",
       "</div>"
      ],
      "text/plain": [
       "   customerID  gender  Partner  PhoneService  OnlineSecurity  OnlineBackup  \\\n",
       "0        4269       0        1             0               0             1   \n",
       "1        3548       1        0             1               1             0   \n",
       "2        3953       1        0             1               1             1   \n",
       "3         227       1        0             0               1             0   \n",
       "4        6806       0        0             1               0             0   \n",
       "\n",
       "   DeviceProtection  TechSupport  StreamingTV  StreamingMovies  ...  \\\n",
       "0                 0            0            0                0  ...   \n",
       "1                 1            0            0                0  ...   \n",
       "2                 0            0            0                0  ...   \n",
       "3                 1            1            0                0  ...   \n",
       "4                 0            0            0                0  ...   \n",
       "\n",
       "   tenure_68  tenure_69  tenure_70  tenure_71  tenure_72  \\\n",
       "0          0          0          0          0          0   \n",
       "1          0          0          0          0          0   \n",
       "2          0          0          0          0          0   \n",
       "3          0          0          0          0          0   \n",
       "4          0          0          0          0          0   \n",
       "\n",
       "   contract_faixa_contract_0-12  contract_faixa_contract_13-24  \\\n",
       "0                             1                              0   \n",
       "1                             0                              0   \n",
       "2                             1                              0   \n",
       "3                             0                              0   \n",
       "4                             1                              0   \n",
       "\n",
       "   contract_faixa_contract_25-48  contract_faixa_contract_49-60  \\\n",
       "0                              0                              0   \n",
       "1                              1                              0   \n",
       "2                              0                              0   \n",
       "3                              1                              0   \n",
       "4                              0                              0   \n",
       "\n",
       "   contract_faixa_contract_60  \n",
       "0                           0  \n",
       "1                           0  \n",
       "2                           0  \n",
       "3                           0  \n",
       "4                           0  \n",
       "\n",
       "[5 rows x 105 columns]"
      ]
     },
     "execution_count": 41,
     "metadata": {},
     "output_type": "execute_result"
    }
   ],
   "source": [
    "df_change.head()"
   ]
  },
  {
   "cell_type": "markdown",
   "id": "beautiful-minute",
   "metadata": {},
   "source": [
    "Vou realizar a plotagem de uma matriz de confusão para ver a relação entre cada feature nos dados numéricos, para isso vou usar a função Heatmap() do seaborn.\n",
    "A matriz de confusão ofere uma visão digamos que holística do desempenho do modelo. "
   ]
  },
  {
   "cell_type": "code",
   "execution_count": 43,
   "id": "diagnostic-semester",
   "metadata": {},
   "outputs": [
    {
     "data": {
      "image/png": "[encoded data removed]",
      "text/plain": [
       "<Figure size 864x864 with 2 Axes>"
      ]
     },
     "metadata": {
      "needs_background": "light"
     },
     "output_type": "display_data"
    }
   ],
   "source": [
    "fig, ax=plt.subplots(figsize=(12,12))\n",
    "sns.heatmap(df_change.corr(), vmin=0, ax=ax)\n",
    "plt.show()"
   ]
  },
  {
   "cell_type": "markdown",
   "id": "designed-botswana",
   "metadata": {},
   "source": [
    "# Construção do Modelo ML - Churn Rate"
   ]
  },
  {
   "cell_type": "markdown",
   "id": "outer-norfolk",
   "metadata": {},
   "source": [
    "Na construção de um modelo de ML temos que ter em mente que apenas ajustar os nossos dados de treino não é o suficiente para se ter o aprendizado de máquina. Com base nessa afirmação vem a tona a seguinte pergunta. Como pode confiar que o modelo também fará boas previsões de modelos nunca vistos?\n",
    "\n",
    "O objetivo é generalizar para dados que não foram vistos antes. Para realizar isso existem algumas técnicas que podem ser usadas para identificar se o modelo é realmente eficiente. É feito a medição do desempenho de generalização: medimos o seu desempenho num teste realizado com um conjunto de dados que não foram vistos antes.\n",
    "\n",
    "Isto é de suma importância, pois é através desses testes que podemos identificar se houve overfitting. O overfitting acontece quando o algoritmo funciona bem no conjunto de dados de treinamento, mas tem péssimos resultados no conjunto de dados de teste, logo podemos observar que o algoritmo não pode realizar a generalização.\n",
    "\n",
    "Uma maneira simples de medir a generalização de um conjunto de dados é dividi-los em três subconjuntos, que são:\n",
    "\n",
    "- Um conjunto de treinamento, um subconjunto de dados que é usado para treinar o modelo;\n",
    "\n",
    "- Um conjunto de validação, que é usado para ajustar hiperparâmetros como o número de unidades ocultas ou a taxa de aprendizagem;\n",
    "\n",
    "- Um conjunto de teste, que é usado para medir o desempenho de generalização.\n",
    "\n",
    "Uma observação importante é que jamais devemos treinar o conjunto de dados de teste. Pois, isso dará resultados irreais sobre a qualidade do modelo.\n",
    "\n",
    "Quanto maior for o conjunto de teste, mais confiança temos nas nossas métricas de avaliação, logo teremos intervalos de confiança mais estreitos.\n",
    "\n",
    "O conjunto de teste precisa atender às seguintes necessidades a seguir:\n",
    "\n",
    "1. É grande o suficiente para produzir resultados estatisticamente significativos.\n",
    "\n",
    "2. É representativo o suficiente com o conjunto de dados na totalidade, ou seja, não podemos escolher um conjunto de teste com características diferentes dos nossos dados de treinamento.\n",
    "\n",
    "Com base nos esclarecimentos prestado acima, vou realizar a separação dos dados de treino e de teste, e começar a construção do nosso modelo de ChurnRate. Com a análise feita sobre esse problema em específico vou usar uma métrica de avaliação que se chama \"Recall\". Escolhi essa métrica pois claramente podemos notar que o nosso problema é da categoria de classificação desiquilibrada, se comparando o número de clientes que cometeram \"churn\" como o número de cliente que ainda não cometeu \"churn\". Partindo desta premissa sabemos que precisão não é uma boa medida para avaliar o desempenho do modelo.\n",
    "\n",
    "O recall é a capacidade de um modelo de localizar todos os casos relevantes em um conjunto de dados. O recall vai me dá a proporção de positivos reais que foram identificados corretamente, o mesmo possuí a seguinte formula: Recall=TP/TP+FN temos o número de verdadeiros positivos sobre verdadeiros positivos mais falsos negativos.\n",
    "\n",
    "Os verdadeiros positivos são pontos de dados classificados como positivos pelo modelo que são realmente positivos (o que significa que estão corretos) e os falsos negativos são pontos de dados que o modelo identifica como negativos que na verdade são positivos (incorretos)."
   ]
  },
  {
   "cell_type": "code",
   "execution_count": 42,
   "id": "actual-attendance",
   "metadata": {},
   "outputs": [],
   "source": [
    "#Excluindo e separando a coluna 'Churn' das demaisy = churn_dataset['Churn']\n",
    "X = df_change.drop(['Churn','customerID'], axis = 1)\n",
    "y = df_change['Churn']"
   ]
  },
  {
   "cell_type": "markdown",
   "id": "preceding-soviet",
   "metadata": {},
   "source": [
    "A distribuição dos dados em conjuntos de treino e teste, pode ser uma divisão de 80-20 ou 72-25 por exemplo, entre outras. O que temos que levar em consideração quando for tomar essa decisão é a nossa quantidade de dados.\n",
    "\n",
    "para realizar a divisão dos dados vou utilizar a função sklearn.model_selection.train_test_split é uma função que divide arrays ou matrizes em subconjunto de treino e teste de forma aleatória. Nesta função vou passar três parâmetros que serão essenciais para realizar a divisão dos dados.\n",
    "\n",
    "- shuffle: Esse parâmetro foi escolhido com base em alguns conceitos essenciais de ML no que se trata em evitar polarização ou padrões nos conjuntos de dados divididos antes de treinar o modelo. O embaralhamento de dados é capaz de melhorar a qualidade do modelo e também o desempenho preditivo.\n",
    "\n",
    "- stratify: Quer dizer divisão estratificada de treino e teste. Este módulo faz com quer os dados de treino e teste fiquem com as mesmas proporções dos exemplos em cada classe, conforme observado no conjunto de dados original.\n",
    "\n",
    "- random-size: É um parâmetro que dá a garantia que tanto a saída da #Excução1, como a saída #Excecução2 serão iguais. O numero que é atribuído neste parâmetro não importa muito. O importante é que toda vez que você executar o número escolhido, sempre obterá a mesma saída na primeira vez que a divisão for realizada. A escolha do random-size é importante pois se caso não for definido toda vez que modelo for executado, será gerado um novo valor aleatório tanto no conjunto de teste como de treino e isso implica que terão valores diferentes de cada nova iteração."
   ]
  },
  {
   "cell_type": "code",
   "execution_count": 46,
   "id": "honey-modeling",
   "metadata": {},
   "outputs": [],
   "source": [
    "X_train, X_test, y_train, y_test = train_test=train_test_split(X,y, stratify=y, shuffle=True, \\\n",
    "                                                              test_size=0.2, random_state=44)"
   ]
  },
  {
   "cell_type": "markdown",
   "id": "outside-particular",
   "metadata": {},
   "source": [
    "# Cross-validation\n",
    "\n",
    "\n",
    "\n",
    "Na aprendizagem de máquina, não podemos ajustar o modelo aos nossos dados de treinamento e também não conseguimos dizer que o modelo funcionará com a precisão necessária para os dados reais. Diante disso é preciso ter certeza que nosso modelo obteve os padrões corretos de dados, e não está captando algum ruído. Neste modelo optei por avaliar com uma técnica chamada de validação cruzada, conhecida como cross-validation, a mesma é capaz de avaliar a capacidade de generalização de um modelo, a partir de um conjunto de dados.\n",
    "\n",
    "Nessa técnica o modelo usa o subconjunto de dados e, em seguida, é realizada a avaliação usando o subconjunto complementar ao conjunto de dados.\n",
    "\n",
    "Etapas que envolvidas na validação cruzada são as seguintes:\n",
    "\n",
    "1. Reservar alguma parte do conjunto de dados da nossa amostra.\n",
    "2. Usa o conjunto de dados restantes, treina o modelo.\n",
    "3. Testa o modelo usando a parte de reserva do conjunto de dados.\n",
    "\n",
    "Quando a validação cruzada é usada com o (train test split) temos algumas vantagens que são consideradas de suma importância no momento de avaliação e principalmente faz com que o modelo seja simples.\n",
    "\n",
    "Vantagens da validação cruzada:\n",
    "\n",
    "- Estimativa mais precisa da exatidão fora da amostra.\n",
    "- Uso mais \"eficiente\" de dados, pois cada observação é usada para treinamento e teste.\n",
    "- É mais simples examinar os resultados detalhados do processo de teste."
   ]
  },
  {
   "cell_type": "code",
   "execution_count": 47,
   "id": "seasonal-silly",
   "metadata": {},
   "outputs": [],
   "source": [
    "def validar_modelos(X, y, clf, quite = False):\n",
    "    \n",
    "    X = np.array(X)\n",
    "    y = np.array(y)\n",
    "    \n",
    "    pipeline = make_pipeline(StandardScaler(), clf)\n",
    "    val_scores = cross_val_score(pipeline, X, y, scoring = 'recall')\n",
    "    \n",
    "    if quite == False:\n",
    "        print('scores: ', val_scores)\n",
    "        print('Recall: {:.2f} (+/- {:.2f})'.format(val_scores.mean(), val_scores.std()))\n",
    "        \n",
    "    return val_scores.mean()"
   ]
  },
  {
   "cell_type": "markdown",
   "id": "amber-staff",
   "metadata": {},
   "source": [
    "# Random Forest\n",
    "\n",
    "Para a primeira validação optei por usar o RF (Random Forest), sem ajuste de parâmentros inicialmente e ver qual o resultado de recall posso obter.\n",
    "\n",
    "Random Forest é um algoritmo de aprendizagem de máquina supervisionado, simples e fácil de usar. Escolhi este algoritmo a principio pelo fato de ser um dos mais utilizados quando se trata de problemas de classificação e regressão logística.\n",
    "\n",
    "Random Forest é capaz de construí um conjunto de árvores de decisão, geralmente treinadas com o método de \"ensacamento\". Quando são adicionados os hiperparâmetros no algoritmo Random Forest o algoritmo se torna ainda mais poderoso, capaz de aumentar o poder preditivo e aumentar a velocidade do modelo. Abaixo estão enumerados 4 passos que explica como o RF funciona na prática.\n",
    "\n",
    "1. Criação do Bootstraped Dataset.\n",
    "2. A cada passo é selecionado um número N de features para montar a árvore.\n",
    "3. Diversas ávores são criadas a partir de subconjuntos diferentes.\n",
    "4. A instância de teste deve percorrer cada árvore da floresta e a classe definida será a mais votada.\n",
    "\n",
    "Além também de possuir vantagens que são:\n",
    "\n",
    "- Maior robustez;\n",
    "\n",
    "- Menos propenso a sofrer Overfitting em comparação com uma única Árvore de decisão;\n",
    "\n",
    "- Permite descorberta de conhecimento;\n",
    "\n",
    "- Poucos parâmetros para ser ajustado;\n",
    "\n",
    "\n"
   ]
  },
  {
   "cell_type": "code",
   "execution_count": 48,
   "id": "instrumental-action",
   "metadata": {},
   "outputs": [
    {
     "name": "stdout",
     "output_type": "stream",
     "text": [
      "scores:  [0.5083612  0.50167224 0.45150502 0.43478261 0.43143813]\n",
      "Recall: 0.47 (+/- 0.03)\n"
     ]
    }
   ],
   "source": [
    "rf = RandomForestClassifier()\n",
    "score_baseline = validar_modelos(X_train, y_train, rf)\n",
    "\n",
    "#A explicação segue abaixo"
   ]
  },
  {
   "cell_type": "markdown",
   "id": "simple-inspiration",
   "metadata": {},
   "source": [
    "# Random UnderSampler\n",
    "\n",
    "Antes de fazer a ánalise deste  resultado precisamos entender algumas formas que ML usa para validar um modelo. Essas técnicas são extremamente crucial. \n",
    "\n",
    "Classes desequilibradas ocorrem comumente em conjuntos de dados e, quando se trata de alguns usos espercificados, é interessante dar mais importância às metricas de precisão e recall, e também como obter o equilíbrio entre elas. \n",
    "\n",
    "Em ML existe três formas principais de se avaliar totalmente a eficácia de um modelo.\n",
    "\n",
    "1. Accuracy- É  a razão entre o número de previsões corretas e o número total de amostras de entrada. \n",
    "\n",
    "\n",
    "\n",
    "2. Precision: Procura responder a seguinte questão: Qual a proporção de identificações positivas estavam realmente certa. Para encontrar a precisão de um modelo é realizado um calculo no qual apresenta a seguinte formula: Precision = verdadeiros Positivos/verdadeiros positivos + falso positivo. Como podemos observar é um calculo que leva também em consideração quando o modelo classifica falsos positivos\n",
    "\n",
    "\n",
    "3. Recall- Procura responder a seguinte questão: Qual a proporção de positivos reais foi identificada corretamente? Para encontrar o recall é usado a seguinte formula: recall=verdadeiros Positivos/verdadeiros positivos + falso negativo. Nesta formula podemos observar que apenas é levado em consideração se ocorreu falso negativo e verdadeiro positivos.   \n",
    "\n",
    "No resultado podemos observar que o algoritmo Random Florest sem ajuste de parâmetros obteve o resultado de 0.48 e un desvio padrã de 0.03. Isso significa que este modelo detectou em torno de 48% das vezes que realmente seriam 'Churn'. A confiabilidade dessa informação é de 95%. "
   ]
  },
  {
   "cell_type": "code",
   "execution_count": 49,
   "id": "composed-captain",
   "metadata": {},
   "outputs": [
    {
     "data": {
      "text/plain": [
       "0    1495\n",
       "1    1495\n",
       "Name: Churn, dtype: int64"
      ]
     },
     "execution_count": 49,
     "metadata": {},
     "output_type": "execute_result"
    }
   ],
   "source": [
    "RUS=RandomUnderSampler()\n",
    "X_train_RUS, y_train_RUS = RUS.fit_sample(X_train, y_train)\n",
    "y_train_RUS.value_counts()\n",
    "\n",
    "#A explicação segue abaixo"
   ]
  },
  {
   "cell_type": "markdown",
   "id": "boolean-respect",
   "metadata": {},
   "source": [
    "Como já podemos imaginar o nosso conjunto de dados da nossa tabela \"Churn\" está desbalanceado, nos gráficos plotados anteriormente vimos que a minoria dos dados da tabela são aqueles que informam quando houve \"Churn\". E esse padrão no conjunto de dados de treinameno pode influenciar muitos algoritmos de aprendizagem de máquina, levando alguns a ignorar totalmente a classe de dados minoritária. E isso é um problema levando em consideração que é a classe de dados minoritária que nos interessa. \n",
    "A tecnica que foi usada para balancear os dados de treino é RandomUnderSampler. \n",
    "\n",
    "Podemos observar no output que agora temos a mesma quantidade de 0 e 1 na coluna 'Churn'\n"
   ]
  },
  {
   "cell_type": "markdown",
   "id": "immune-chance",
   "metadata": {},
   "source": [
    "# Instânciado modelos de ML "
   ]
  },
  {
   "cell_type": "markdown",
   "id": "thermal-elephant",
   "metadata": {},
   "source": [
    "Com o objetivo de testar os modelos de ML e principalmente analisar seus desempenhos e a partir disso escolher os que apresentarem melhores resultados. Os modelos que vou usar são:\n",
    "\n",
    "1. Random Forest \n",
    "\n",
    "2. SVC \n",
    "\n",
    "3. Logistic Regression\n",
    "\n",
    "4. XGBClassifier\n",
    "\n",
    "5. SGDClassifier\n",
    "\n",
    "6. LGMClassifier\n",
    "\n",
    "7. KNeighborsClassifier"
   ]
  },
  {
   "cell_type": "code",
   "execution_count": 50,
   "id": "absolute-tribune",
   "metadata": {},
   "outputs": [
    {
     "data": {
      "text/html": [
       "<div>\n",
       "<style scoped>\n",
       "    .dataframe tbody tr th:only-of-type {\n",
       "        vertical-align: middle;\n",
       "    }\n",
       "\n",
       "    .dataframe tbody tr th {\n",
       "        vertical-align: top;\n",
       "    }\n",
       "\n",
       "    .dataframe thead th {\n",
       "        text-align: right;\n",
       "    }\n",
       "</style>\n",
       "<table border=\"1\" class=\"dataframe\">\n",
       "  <thead>\n",
       "    <tr style=\"text-align: right;\">\n",
       "      <th></th>\n",
       "      <th>Recall</th>\n",
       "    </tr>\n",
       "  </thead>\n",
       "  <tbody>\n",
       "    <tr>\n",
       "      <th>LogisticRegression</th>\n",
       "      <td>0.796656</td>\n",
       "    </tr>\n",
       "    <tr>\n",
       "      <th>LGBMClassifier</th>\n",
       "      <td>0.769231</td>\n",
       "    </tr>\n",
       "    <tr>\n",
       "      <th>KNeighborsClassifier</th>\n",
       "      <td>0.776589</td>\n",
       "    </tr>\n",
       "    <tr>\n",
       "      <th>RandomForestClassifier</th>\n",
       "      <td>0.757191</td>\n",
       "    </tr>\n",
       "    <tr>\n",
       "      <th>DecisionTreeClassifier</th>\n",
       "      <td>0.671572</td>\n",
       "    </tr>\n",
       "    <tr>\n",
       "      <th>SGDClassifier</th>\n",
       "      <td>0.719064</td>\n",
       "    </tr>\n",
       "    <tr>\n",
       "      <th>SVC</th>\n",
       "      <td>0.761873</td>\n",
       "    </tr>\n",
       "    <tr>\n",
       "      <th>XGBClassifier</th>\n",
       "      <td>0.751171</td>\n",
       "    </tr>\n",
       "  </tbody>\n",
       "</table>\n",
       "</div>"
      ],
      "text/plain": [
       "                          Recall\n",
       "LogisticRegression      0.796656\n",
       "LGBMClassifier          0.769231\n",
       "KNeighborsClassifier    0.776589\n",
       "RandomForestClassifier  0.757191\n",
       "DecisionTreeClassifier  0.671572\n",
       "SGDClassifier           0.719064\n",
       "SVC                     0.761873\n",
       "XGBClassifier           0.751171"
      ]
     },
     "execution_count": 50,
     "metadata": {},
     "output_type": "execute_result"
    }
   ],
   "source": [
    "\n",
    "lr = LogisticRegression()\n",
    "lgbm = LGBMClassifier()\n",
    "Knn = KNeighborsClassifier()\n",
    "rf = RandomForestClassifier()\n",
    "dt = DecisionTreeClassifier()\n",
    "sgdc = SGDClassifier()\n",
    "svc = SVC()\n",
    "xgb = XGBClassifier()\n",
    "\n",
    "\n",
    "\n",
    "model = []\n",
    "recall = []\n",
    "\n",
    "# avaliando o desempenho (recall)\n",
    "\n",
    "for clf in (lr, lgbm, Knn, rf, dt, sgdc, svc,xgb):\n",
    "    model.append(clf.__class__.__name__)\n",
    "    recall.append(validar_modelos(X_train_RUS, y_train_RUS, clf, quite = True))\n",
    "    \n",
    "pd.DataFrame(data = recall, index = model, columns = ['Recall'])"
   ]
  },
  {
   "cell_type": "markdown",
   "id": "ongoing-empty",
   "metadata": {},
   "source": [
    "# XGBClassifier\n",
    "\n",
    "Como podemos observar de acordo com os resultados o modelo que obteve melhor desempenho foi o Logistic Regression apresenta o Recall mais alto. Para investigar melhor o Recall e a possibilidade de obter resultados melhores vou optar por usar um outro modelo chamado XGBClassifier.Com o mesmo posso ajustar os parâmetros de uma forma mais sistematica e com isso obter melhores resultados. \n",
    "\n",
    "O XGBoost: Significa Xtreme Gradient Boosting o mesmo é uma implementação de árvores de decisão com aumento de gradiente projetadas para velocidade e desempenho. \n",
    "\n",
    "\n",
    "Esse modelo se torna bastante poderoso pelo fato de possuí uma série de parâmetros que podem ser ajustados e tornar o modelo mais efciciente. \n",
    "Nesta implementação vou fazer o ajuste de alguns parâmentros e analisar os resultados aos poucos. Pois o meu objetivo é encontrar um equilibrio entre o overfitting e underfitting e isso só será possível se os parâmentros estiverem bem ajustados.  \n",
    "\n",
    "O algoritmo foi projetado com o objetivo de redução de tempo de computação e recursos de memória, fazendo com que haja um melhor uso dos recursos para treinar o modelo. Alguns recursos de implementação do algoritmo incluem:\n",
    "\n",
    "- Sparse Aware: Essa imeplementação faz o tratamento automático de valores de dados perdidos. \n",
    "\n",
    "\n",
    "- Block Structure: É usado como um apoio a paralelização de árvores.\n",
    "\n",
    "\n",
    "- Continued Training: É usado para que se possa impulsionar ainda mais um modelo já ajustado com novos dados. \n"
   ]
  },
  {
   "cell_type": "code",
   "execution_count": 50,
   "id": "legal-advisory",
   "metadata": {},
   "outputs": [
    {
     "data": {
      "text/plain": [
       "XGBClassifier(base_score=None, booster=None, colsample_bylevel=None,\n",
       "              colsample_bynode=None, colsample_bytree=None, gamma=None,\n",
       "              gpu_id=None, importance_type='gain', interaction_constraints=None,\n",
       "              learning_rate=None, max_delta_step=None, max_depth=None,\n",
       "              min_child_weight=None, missing=nan, monotone_constraints=None,\n",
       "              n_estimators=100, n_jobs=None, num_parallel_tree=None,\n",
       "              random_state=None, reg_alpha=None, reg_lambda=None,\n",
       "              scale_pos_weight=None, subsample=None, tree_method=None,\n",
       "              validate_parameters=False, verbosity=None)"
      ]
     },
     "execution_count": 50,
     "metadata": {},
     "output_type": "execute_result"
    }
   ],
   "source": [
    "#Para conhecer mais alguns parâmetros do XGBClassifier. \n",
    "\n",
    "XGBClassifier()"
   ]
  },
  {
   "cell_type": "code",
   "execution_count": 51,
   "id": "normal-corps",
   "metadata": {},
   "outputs": [
    {
     "name": "stdout",
     "output_type": "stream",
     "text": [
      "              precision    recall  f1-score   support\n",
      "\n",
      "           0       0.91      0.72      0.80      1035\n",
      "           1       0.51      0.80      0.62       374\n",
      "\n",
      "    accuracy                           0.74      1409\n",
      "   macro avg       0.71      0.76      0.71      1409\n",
      "weighted avg       0.80      0.74      0.75      1409\n",
      "\n"
     ]
    },
    {
     "data": {
      "text/html": [
       "<div>\n",
       "<style scoped>\n",
       "    .dataframe tbody tr th:only-of-type {\n",
       "        vertical-align: middle;\n",
       "    }\n",
       "\n",
       "    .dataframe tbody tr th {\n",
       "        vertical-align: top;\n",
       "    }\n",
       "\n",
       "    .dataframe thead th {\n",
       "        text-align: right;\n",
       "    }\n",
       "</style>\n",
       "<table border=\"1\" class=\"dataframe\">\n",
       "  <thead>\n",
       "    <tr style=\"text-align: right;\">\n",
       "      <th>col_0</th>\n",
       "      <th>0</th>\n",
       "      <th>1</th>\n",
       "    </tr>\n",
       "    <tr>\n",
       "      <th>Churn</th>\n",
       "      <th></th>\n",
       "      <th></th>\n",
       "    </tr>\n",
       "  </thead>\n",
       "  <tbody>\n",
       "    <tr>\n",
       "      <th>0</th>\n",
       "      <td>742</td>\n",
       "      <td>293</td>\n",
       "    </tr>\n",
       "    <tr>\n",
       "      <th>1</th>\n",
       "      <td>74</td>\n",
       "      <td>300</td>\n",
       "    </tr>\n",
       "  </tbody>\n",
       "</table>\n",
       "</div>"
      ],
      "text/plain": [
       "col_0    0    1\n",
       "Churn          \n",
       "0      742  293\n",
       "1       74  300"
      ]
     },
     "execution_count": 51,
     "metadata": {},
     "output_type": "execute_result"
    }
   ],
   "source": [
    "xgb_model=XGBClassifier ()\n",
    "xgb_model.fit(X_train_RUS, y_train_RUS)\n",
    "y_predict = xgb_model.predict(X_test)\n",
    "\n",
    "from sklearn.metrics import accuracy_score, classification_report\n",
    "#print(\"A precisão desse modelo é: \", accuracy_score(y_test, y_predict))\n",
    "print(classification_report(y_test, y_predict))\n",
    "pd.crosstab(y_test, y_predict)"
   ]
  },
  {
   "cell_type": "markdown",
   "id": "fiscal-miracle",
   "metadata": {},
   "source": [
    "Podemos interpretar o relatório acima como se nosso modelo nos dissesse, 52 deles irão se desligar do serviço (precisão de 0,52). E, na verdade, existem cerca de 955 clientes que se desligarão (recall de 0,80). Com base nesses resultados é notório que podemos melhorar o desempenho geral do nosso modelo.\n",
    "\n",
    "Como podemos observar os resultados são relativamente bons em termos de precison e recall. Temos o nosso F1-score que é a média harmônica de precisão e recall levando ambas as métricas em consideração na seguinte equação: \n",
    "\n",
    "- F1= 2 * precision * recall / precision + recall\n",
    "\n",
    "É usado a média harmônica ao invés da média simples por conta que a mesma é capaz de punir valores extremos. \n",
    "\n",
    "Enquanto o recall expressa a habilidade de encontrar todas as instâncias relevantes em um conjunto de dados, a precisão expressa a proporção dos pontos de dados que nosso modelo diz serem relevantes e realmente relevantes.\n",
    "\n",
    "Como podemos observar temos uma tabela que se chama matriz de confusão, e ela possuí os seguintes valores:\n",
    "\n",
    "\n",
    "- Verdadeiros positivos: pontos de dados rotulados como positivos que são realmente positivos.\n",
    "- Falsos positivos: pontos de dados rotulados como positivos que são realmente negativos.\n",
    "- Negativos verdadeiros: pontos de dados rotulados como negativos que são realmente negativos.\n",
    "- Falsos negativos: pontos de dados rotulados como negativos que são realmente positivos.\n",
    "\n"
   ]
  },
  {
   "cell_type": "markdown",
   "id": "color-return",
   "metadata": {},
   "source": [
    "Com o objetivo de entender melhor como o modelo funciona em detalhes, me deparo com as seguintes questões:\n",
    "1. Primeiro, quais features o modelo usou exatamente no conjunto de dados?\n",
    "2. Além disso, quais foram as mais importantes?\n",
    "\n",
    "segue o código abaixo para responder essas questões.\n"
   ]
  },
  {
   "cell_type": "code",
   "execution_count": 54,
   "id": "pediatric-environment",
   "metadata": {},
   "outputs": [
    {
     "data": {
      "text/plain": [
       "<AxesSubplot:title={'center':'Feature importance'}, xlabel='F score', ylabel='Features'>"
      ]
     },
     "execution_count": 54,
     "metadata": {},
     "output_type": "execute_result"
    },
    {
     "data": {
      "image/png": "[encoded data removed]",
      "text/plain": [
       "<Figure size 1152x1440 with 1 Axes>"
      ]
     },
     "metadata": {
      "needs_background": "light"
     },
     "output_type": "display_data"
    }
   ],
   "source": [
    "from xgboost import plot_importance\n",
    "fig, ax = plt.subplots(figsize=(16,20))\n",
    "plot_importance(xgb_model, ax=ax)"
   ]
  },
  {
   "cell_type": "markdown",
   "id": "spectacular-receiver",
   "metadata": {},
   "source": [
    "Podemos ver que o modelo atribuiu mais importância a TotalCharges e MonthlyCharges em comparação com as outras features."
   ]
  },
  {
   "cell_type": "markdown",
   "id": "sitting-sigma",
   "metadata": {},
   "source": [
    "# Realizando ajustes de parâmetros\n",
    "\n",
    "O primeiro parâmetro que vou utilizar é o n_estimators.\n",
    "\n",
    "\n",
    "n_estimators int, default = 100\n",
    "\n",
    "O número de estágios de reforço a serem executados. O aumento de gradiente é bastante robusto para sobreajuste, portanto, um número grande geralmente resulta em melhor desempenho.\n",
    "\n",
    "\n"
   ]
  },
  {
   "cell_type": "code",
   "execution_count": 52,
   "id": "sustained-robinson",
   "metadata": {},
   "outputs": [
    {
     "name": "stdout",
     "output_type": "stream",
     "text": [
      "Melhor resultado: 0.7765771812080536 para {'n_estimators': 50}\n"
     ]
    }
   ],
   "source": [
    "xgb = XGBClassifier(learning_rate = 0.1)\n",
    "\n",
    "\n",
    "params = { 'n_estimators' : range(0, 1000, 50), }\n",
    "\n",
    "# Identificando o melhor parâmentro para n_estimators\n",
    "\n",
    "kfold = StratifiedKFold(n_splits = 10, shuffle = True)\n",
    "grid_busca = GridSearchCV(xgb_model, params, scoring = \"recall\", n_jobs = -1, cv = kfold)\n",
    "grid_result = grid_busca.fit(X_train_RUS, y_train_RUS)\n",
    "\n",
    "# vendo os resultados\n",
    "\n",
    "print(\"Melhor resultado: {} para {}\".format(grid_result.best_score_, grid_result.best_params_))"
   ]
  },
  {
   "cell_type": "markdown",
   "id": "global-effect",
   "metadata": {},
   "source": [
    "Como podemos observar obtemos um resultado satisfatório para n_estimators:50. Agora vou realizar o ajuste de mais dois parâmetros que são max_depth e min_child_weight.\n",
    "\n",
    "O parâmetro de profundidade é uma das maneiras pelas quais podemos regularizar a árvore ou limitar a maneira como ela cresce para evitar o sobreajuste .\n",
    "\n",
    "- max_depth determina a profundidade máxima da árvore. Em nosso caso, usamos uma profundidade de 1 para fazer nossa árvore de decisão. \n",
    "\n",
    "- min_child_weight: é o peso mínimo necessário para criar um novo nó na árvore. Também foi atribuído o valor de 1\n",
    "\n",
    "Escolhi estes parâmetros para me ajudar a controlar a complexidade das árvores."
   ]
  },
  {
   "cell_type": "code",
   "execution_count": 53,
   "id": "medium-arrival",
   "metadata": {},
   "outputs": [
    {
     "name": "stdout",
     "output_type": "stream",
     "text": [
      "Melhor: 0.8193736017897091 para {'max_depth': 1, 'min_child_weight': 1}\n"
     ]
    }
   ],
   "source": [
    "xgb = XGBClassifier(learning_rate = 0.1, n_estimators = 50)\n",
    "\n",
    "params = {\n",
    "    'max_depth' : range(1, 8, 1),\n",
    "    'min_child_weight' : range(1, 5, 1)\n",
    "}\n",
    "\n",
    "# identificando o melhor parâmetro\n",
    "\n",
    "kfold = StratifiedKFold(n_splits = 10, shuffle = True)\n",
    "grid_busca = GridSearchCV(xgb, params, scoring = \"recall\", n_jobs = -1, cv = kfold)\n",
    "grid_result = grid_busca.fit(X_train_RUS, y_train_RUS)\n",
    "\n",
    "# vendo os resultados\n",
    "\n",
    "print(\"Melhor: {} para {}\".format(grid_result.best_score_, grid_result.best_params_))"
   ]
  },
  {
   "cell_type": "markdown",
   "id": "tropical-guidance",
   "metadata": {},
   "source": [
    "Apenas com esses sobreajuste conseguimos perceber que os resultados estão ficando cada vez melhor. \n",
    "\n",
    "\n",
    "o próximo parâmentro que vou realizar o ajuste é o gamma. O gamma é um parâmetro de regularização. Diferente do max_depth e min_child_weight que faz a regularização usando informação de \"dentro da árvore\", gamma funciona regularizando informações \"entre árvores\". Pelo que foi estudado e investigado o gamma ajuda a combater o sobreajuste do modelo e assim evitar o everfitting. \n",
    "\n",
    "- Não há gama ideal para um conjunto de dados, há apenas uma gama ótima (com valor real), que depende do conjunto de treinamento e dos outros parâmetros que estão sendo utilizados. \n",
    "\n",
    "- É um hiperparâmetro de pseudo-regularização no aumento de gradiente.\n",
    "\n",
    "- Matematicamente, você chama de “Gama” o “multiplicador de Lagrange” (controle de complexidade).\n",
    "\n",
    "- Quanto maior for o Gamma, maior será a regularização. O valor padrão é 0 (sem regularização)."
   ]
  },
  {
   "cell_type": "code",
   "execution_count": 54,
   "id": "interior-content",
   "metadata": {},
   "outputs": [
    {
     "name": "stdout",
     "output_type": "stream",
     "text": [
      "Melhor: 0.8186979865771813 para {'gama': 0.0}\n"
     ]
    }
   ],
   "source": [
    "xgb = XGBClassifier(learning_rate = 0.1, n_estimators = 50, \n",
    "                    max_depth= 1,min_child_weight = 1)\n",
    "\n",
    "params = {\n",
    "    'gama' : [i / 10.0 for i in range(0, 5)]\n",
    "   \n",
    "}\n",
    "\n",
    "kfold = StratifiedKFold(n_splits = 10, shuffle = True)\n",
    "grid_busca = GridSearchCV(xgb, params, scoring = \"recall\", n_jobs = -1, cv = kfold)\n",
    "grid_result = grid_busca.fit(X_train_RUS, y_train_RUS)\n",
    "\n",
    "# vendo os resultados\n",
    "\n",
    "print(\"Melhor: {} para {}\".format(grid_result.best_score_, grid_result.best_params_))\n",
    "\n",
    "\n"
   ]
  },
  {
   "cell_type": "markdown",
   "id": "selective-appearance",
   "metadata": {},
   "source": [
    "Como podemos observar os resultados continuam sendo promissores, agora é o momento de encontrar uma melhor taxa de aprendizagem. \n",
    "\n",
    "Um problema nas árvores de decisão com aumento de gradiente é que elas aprendem rapidamente e ajustam demais os dados de treinamento. E uma maneira para contornar isso é regular a taxa de aprendizagem. \n",
    "\n",
    "A taxa de aprendizagem é um hiperparâmetro importante que controla o quanto ajustamos os pesos na \"rede\" de acordo com o gradiente. O meu objetivo é encontrar um valor para a taxa de aprendizagem que desacelere o aprendizado no modelo de aumento de gradiente. "
   ]
  },
  {
   "cell_type": "code",
   "execution_count": 55,
   "id": "burning-buying",
   "metadata": {},
   "outputs": [
    {
     "name": "stdout",
     "output_type": "stream",
     "text": [
      "Melhor: 0.8829217002237136 para {'learning_rate': 0.001}\n"
     ]
    }
   ],
   "source": [
    "xgb = XGBClassifier(learning_rate = 0.1, n_estimators = 50, \n",
    "                    max_depth= 1,min_child_weight = 1, gama=0)\n",
    "\n",
    "params = {\n",
    "    'learning_rate' : [0.001, 0.01, 0.1, 1]\n",
    "   \n",
    "}\n",
    "\n",
    "kfold = StratifiedKFold(n_splits = 10, shuffle = True)\n",
    "grid_busca = GridSearchCV(xgb, params, scoring = \"recall\", n_jobs = -1, cv = kfold)\n",
    "grid_result = grid_busca.fit(X_train_RUS, y_train_RUS)\n",
    "\n",
    "# vendo os resultados\n",
    "\n",
    "print(\"Melhor: {} para {}\".format(grid_result.best_score_, grid_result.best_params_))\n",
    "\n",
    "\n"
   ]
  },
  {
   "cell_type": "markdown",
   "id": "transparent-algorithm",
   "metadata": {},
   "source": [
    "Agora que todos os parâmetros necessarios foram identificados, e os resultados apontaram sempre para um \"Recal\" mais alto, Vou realizar a predição utilizando o modelo que obtivemos os melhores resultados e criar uma nova coluna chamada 'Probability_of_Churn' para informar qual a probabilidade dos clientes abondonar o serviço.  \n"
   ]
  },
  {
   "cell_type": "code",
   "execution_count": 56,
   "id": "subsequent-native",
   "metadata": {},
   "outputs": [],
   "source": [
    "xgb = XGBClassifier(learning_rate = 0.001, n_estimators = 50, max_depth = 1, min_child_weight = 1, gamma = 0.0)\n",
    "xgb.fit(X_train_RUS, y_train_RUS)\n",
    "\n",
    "# fazendo a predição\n",
    "y_pred = xgb.predict(X_test)"
   ]
  },
  {
   "cell_type": "code",
   "execution_count": 57,
   "id": "shaped-geography",
   "metadata": {},
   "outputs": [
    {
     "name": "stdout",
     "output_type": "stream",
     "text": [
      "              precision    recall  f1-score   support\n",
      "\n",
      "           0       0.94      0.57      0.71      1035\n",
      "           1       0.43      0.90      0.58       374\n",
      "\n",
      "    accuracy                           0.66      1409\n",
      "   macro avg       0.68      0.73      0.64      1409\n",
      "weighted avg       0.80      0.66      0.67      1409\n",
      "\n"
     ]
    },
    {
     "data": {
      "text/html": [
       "<div>\n",
       "<style scoped>\n",
       "    .dataframe tbody tr th:only-of-type {\n",
       "        vertical-align: middle;\n",
       "    }\n",
       "\n",
       "    .dataframe tbody tr th {\n",
       "        vertical-align: top;\n",
       "    }\n",
       "\n",
       "    .dataframe thead th {\n",
       "        text-align: right;\n",
       "    }\n",
       "</style>\n",
       "<table border=\"1\" class=\"dataframe\">\n",
       "  <thead>\n",
       "    <tr style=\"text-align: right;\">\n",
       "      <th>col_0</th>\n",
       "      <th>0</th>\n",
       "      <th>1</th>\n",
       "    </tr>\n",
       "    <tr>\n",
       "      <th>Churn</th>\n",
       "      <th></th>\n",
       "      <th></th>\n",
       "    </tr>\n",
       "  </thead>\n",
       "  <tbody>\n",
       "    <tr>\n",
       "      <th>0</th>\n",
       "      <td>764</td>\n",
       "      <td>271</td>\n",
       "    </tr>\n",
       "    <tr>\n",
       "      <th>1</th>\n",
       "      <td>76</td>\n",
       "      <td>298</td>\n",
       "    </tr>\n",
       "  </tbody>\n",
       "</table>\n",
       "</div>"
      ],
      "text/plain": [
       "col_0    0    1\n",
       "Churn          \n",
       "0      764  271\n",
       "1       76  298"
      ]
     },
     "execution_count": 57,
     "metadata": {},
     "output_type": "execute_result"
    }
   ],
   "source": [
    "print(classification_report(y_test, y_pred))\n",
    "pd.crosstab(y_test, y_predict)"
   ]
  },
  {
   "cell_type": "code",
   "execution_count": 58,
   "id": "technical-vanilla",
   "metadata": {},
   "outputs": [],
   "source": [
    "df_change['Probability_of_Churn'] = xgb.predict_proba(df_change[X_test.columns])[:,1]"
   ]
  },
  {
   "cell_type": "code",
   "execution_count": 59,
   "id": "mighty-console",
   "metadata": {},
   "outputs": [
    {
     "data": {
      "text/html": [
       "<div>\n",
       "<style scoped>\n",
       "    .dataframe tbody tr th:only-of-type {\n",
       "        vertical-align: middle;\n",
       "    }\n",
       "\n",
       "    .dataframe tbody tr th {\n",
       "        vertical-align: top;\n",
       "    }\n",
       "\n",
       "    .dataframe thead th {\n",
       "        text-align: right;\n",
       "    }\n",
       "</style>\n",
       "<table border=\"1\" class=\"dataframe\">\n",
       "  <thead>\n",
       "    <tr style=\"text-align: right;\">\n",
       "      <th></th>\n",
       "      <th>customerID</th>\n",
       "      <th>Probability_of_Churn</th>\n",
       "    </tr>\n",
       "  </thead>\n",
       "  <tbody>\n",
       "    <tr>\n",
       "      <th>0</th>\n",
       "      <td>5704</td>\n",
       "      <td>0.50882</td>\n",
       "    </tr>\n",
       "    <tr>\n",
       "      <th>1</th>\n",
       "      <td>6889</td>\n",
       "      <td>0.48378</td>\n",
       "    </tr>\n",
       "    <tr>\n",
       "      <th>2</th>\n",
       "      <td>7030</td>\n",
       "      <td>0.50882</td>\n",
       "    </tr>\n",
       "    <tr>\n",
       "      <th>3</th>\n",
       "      <td>5467</td>\n",
       "      <td>0.48378</td>\n",
       "    </tr>\n",
       "    <tr>\n",
       "      <th>4</th>\n",
       "      <td>2099</td>\n",
       "      <td>0.50882</td>\n",
       "    </tr>\n",
       "    <tr>\n",
       "      <th>5</th>\n",
       "      <td>965</td>\n",
       "      <td>0.50882</td>\n",
       "    </tr>\n",
       "    <tr>\n",
       "      <th>6</th>\n",
       "      <td>754</td>\n",
       "      <td>0.50882</td>\n",
       "    </tr>\n",
       "    <tr>\n",
       "      <th>7</th>\n",
       "      <td>1647</td>\n",
       "      <td>0.50882</td>\n",
       "    </tr>\n",
       "    <tr>\n",
       "      <th>8</th>\n",
       "      <td>3271</td>\n",
       "      <td>0.50882</td>\n",
       "    </tr>\n",
       "    <tr>\n",
       "      <th>9</th>\n",
       "      <td>3971</td>\n",
       "      <td>0.48378</td>\n",
       "    </tr>\n",
       "    <tr>\n",
       "      <th>10</th>\n",
       "      <td>1246</td>\n",
       "      <td>0.50882</td>\n",
       "    </tr>\n",
       "    <tr>\n",
       "      <th>11</th>\n",
       "      <td>3349</td>\n",
       "      <td>0.48378</td>\n",
       "    </tr>\n",
       "  </tbody>\n",
       "</table>\n",
       "</div>"
      ],
      "text/plain": [
       "    customerID  Probability_of_Churn\n",
       "0         5704               0.50882\n",
       "1         6889               0.48378\n",
       "2         7030               0.50882\n",
       "3         5467               0.48378\n",
       "4         2099               0.50882\n",
       "5          965               0.50882\n",
       "6          754               0.50882\n",
       "7         1647               0.50882\n",
       "8         3271               0.50882\n",
       "9         3971               0.48378\n",
       "10        1246               0.50882\n",
       "11        3349               0.48378"
      ]
     },
     "execution_count": 59,
     "metadata": {},
     "output_type": "execute_result"
    }
   ],
   "source": [
    "df_change[['customerID','Probability_of_Churn']].head(12)"
   ]
  },
  {
   "cell_type": "code",
   "execution_count": null,
   "id": "improving-developer",
   "metadata": {},
   "outputs": [],
   "source": []
  }
 ],
 "metadata": {
  "kernelspec": {
   "display_name": "Python 3",
   "language": "python",
   "name": "python3"
  },
  "language_info": {
   "codemirror_mode": {
    "name": "ipython",
    "version": 3
   },
   "file_extension": ".py",
   "mimetype": "text/x-python",
   "name": "python",
   "nbconvert_exporter": "python",
   "pygments_lexer": "ipython3",
   "version": "3.8.7"
  }
 },
 "nbformat": 4,
 "nbformat_minor": 5
}
